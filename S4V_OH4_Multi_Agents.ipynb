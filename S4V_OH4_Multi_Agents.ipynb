{
  "cells": [
    {
      "cell_type": "code",
      "execution_count": 1,
      "metadata": {
        "id": "1NcsdKJnRIC-"
      },
      "outputs": [],
      "source": [
        "%%capture\n",
        "# Required installations\n",
        "!pip install grpcio==1.63.0\n",
        "!pip install crewai==0.41.1\n",
        "!pip install 'crewai[tools]'\n",
        "!pip install langchain-google-genai==1.0.4\n",
        "!pip install langchain-anthropic==0.1.20\n",
        "!pip install langchain_milvus==0.1.3\n",
        "!pip install langchain-openai==0.1.19\n",
        "!pip install langchain-community==0.2.10\n",
        "!pip install sentence-transformers==3.0.1\n",
        "!pip install protobuf==5.27.2\n",
        "!npm install -g degit\n"
      ]
    },
    {
      "cell_type": "code",
      "execution_count": 2,
      "metadata": {
        "id": "1R3KQlyjRuDq",
        "outputId": "b1dc8890-a15a-4248-9c41-8a7d00d446db",
        "colab": {
          "base_uri": "https://localhost:8080/"
        }
      },
      "outputs": [
        {
          "output_type": "stream",
          "name": "stderr",
          "text": [
            "/usr/local/lib/python3.10/dist-packages/pydantic/_internal/_config.py:341: UserWarning: Valid config keys have changed in V2:\n",
            "* 'allow_population_by_field_name' has been renamed to 'populate_by_name'\n",
            "* 'smart_union' has been removed\n",
            "  warnings.warn(message, UserWarning)\n"
          ]
        }
      ],
      "source": [
        "from crewai import Agent, Task, Crew\n",
        "from google.colab import userdata\n",
        "import os"
      ]
    },
    {
      "cell_type": "code",
      "execution_count": 3,
      "metadata": {
        "id": "eXVSzhiEm3OX"
      },
      "outputs": [],
      "source": [
        "from langchain_openai import ChatOpenAI\n",
        "\n",
        "os.environ['OPENAI_API_KEY'] = userdata.get('OPENAI_API_KEY')\n",
        "model_name = \"gpt-4o-mini\"\n",
        "\n",
        "open_ai_llm = ChatOpenAI(\n",
        "    model = model_name,\n",
        "    temperature = 0.5)"
      ]
    },
    {
      "cell_type": "markdown",
      "metadata": {
        "id": "lax0-DfYwDR9"
      },
      "source": [
        "## Nhân viên thứ nhất"
      ]
    },
    {
      "cell_type": "code",
      "execution_count": 4,
      "metadata": {
        "id": "FMa8GEsdRyr2"
      },
      "outputs": [],
      "source": [
        "class_planner = Agent(\n",
        "    role=\"Giáo viên Lập Kế Hoạch Nội Dung Giảng dạy\",\n",
        "    goal=\"Lập kế hoạch các chủ đề hàng tuần hấp dẫn và giáo dục\",\n",
        "    backstory=\"Bạn chịu trách nhiệm lập kế hoạch các chủ đề hàng tuần.  \"\n",
        "              \"Bạn cần đảm bảo nội dung mang tính giáo dục, hấp dẫn và phù hợp với tiêu chuẩn chương trình học. \"\n",
        "              \"Kế hoạch của bạn sẽ giúp giáo viên cung cấp các bài học toàn diện và thú vị bao gồm \"\n",
        "              \"nhiều chủ đề vật lý khác nhau. Mỗi tuần nên xây dựng dựa trên tuần trước, củng cố và mở rộng kiến thức vật lý của học sinh, giúp học sinh được rèn năng lực vận dụng vật lý\"\n",
        "              \"Kĩ thuật dạy học: Kĩ thuật chia nhóm, kĩ thuật đặt câu hỏi, hỏi đáp, động não\",\n",
        "    llm=open_ai_llm,\n",
        "    allow_delegation=False,\n",
        "    verbose=True\n",
        ")\n",
        "planning_task = Task(\n",
        "    description=(\n",
        "        \"1. Xác định các chủ đề quan trọng và phù hợp cho {topic} trong vòng {range} và phù hợp với các học sinh {students} \"\n",
        "        \"bao gồm các khái niệm cơ bản, định lý, và có thể bao gồm ứng dụng thực tế của {sub_topics}\\n\"\n",
        "        \"2. Xác định đối tượng học sinh, xem xét \"\n",
        "        \"sở thích và những khó khăn của họ trong việc học môn Vật Lý.\\n\"\n",
        "        \"3. Phát triển một dàn ý chi tiết cho mỗi tuần bao gồm \"\n",
        "        \"phần giới thiệu, kỹ thuật dạy học, các điểm chính, hoạt động học tập và câu hỏi thảo luận.\\n\"\n",
        "        \"4. Bao gồm các từ khóa quan trọng và các nguồn tài liệu tham khảo liên quan.\"\n",
        "        \"5. Tất cả các output bằng tiếng Việt.\"\n",
        "    ),\n",
        "    expected_output=\"Một tài liệu kế hoạch nội dung toàn diện \"\n",
        "        \"với dàn ý hàng tuần theo tiết học cụ thể, phân tích đối tượng học sinh, \"\n",
        "        \"từ khóa quan trọng và các nguồn tài liệu tham khảo.\",\n",
        "    output_file=\"planning.md\",\n",
        "    agent=class_planner,\n",
        ")\n"
      ]
    },
    {
      "cell_type": "markdown",
      "metadata": {
        "id": "SnwzhbN8wJmE"
      },
      "source": [
        "## Nhân viên thứ hai"
      ]
    },
    {
      "cell_type": "code",
      "execution_count": 6,
      "metadata": {
        "id": "a_YyERdtR6YS"
      },
      "outputs": [],
      "source": [
        "lesson_designer = Agent(\n",
        "    role=\"Giáo viên Thiết Kế Bài Học Vật Lý\",\n",
        "    goal=\"Thiết kế các bài học chi tiết và chính xác về mặt thông tin cho môn Vật Lý lớp 10, mỗi tiết học dài 45 phút\",\n",
        "    backstory=\"Bạn đang làm việc để thiết kế các bài học mới cho môn Vật Lý 10. \"\n",
        "              \"Bạn dựa vào công việc của Giáo viên Vật Lý lớp 10 Lập Kế Hoạch Nội Dung Giảng dạy, người cung cấp dàn ý \"\n",
        "              \"và ngữ cảnh liên quan đến chủ đề. \"\n",
        "              \"Bạn tuân theo các mục tiêu chính và \"\n",
        "              \"hướng dẫn của dàn ý, \"\n",
        "              \"do Giáo viên Vật Lý lớp 10 Lập Kế Hoạch Nội Dung Giảng dạy cung cấp. \"\n",
        "              \"Bạn cũng cung cấp các thông tin khách quan và không thiên vị \"\n",
        "              \"và củng cố chúng bằng các thông tin \"\n",
        "              \"được cung cấp bởi Giáo viên Vật Lý lớp 10 Lập Kế Hoạch Nội Dung Giảng dạy. \"\n",
        "              \"Bạn đảm bảo bài học của mình có tính tương tác, hấp dẫn và phù hợp với tiêu chuẩn chương trình học.\",\n",
        "    allow_delegation=False,\n",
        "    llm=open_ai_llm,\n",
        "    verbose=True\n",
        ")\n",
        "\n",
        "lesson_plan_task = Task(\n",
        "    description=(\n",
        "        \"1. Xác định mục tiêu học tập cho tiết học 45 phút về chủ đề {topic}.\\n\"\n",
        "        \"2. Lập dàn ý chi tiết cho tiết học, bao gồm phần giới thiệu, các điểm chính, hoạt động học tập, và kết luận.\\n\"\n",
        "        \"3. Phát triển các hoạt động học tập tương tác và hấp dẫn để giúp học sinh hiểu sâu hơn về chủ đề.\\n\"\n",
        "        \"4. Bao gồm các câu hỏi thảo luận và bài tập để kiểm tra sự hiểu biết của học sinh.\\n\"\n",
        "        \"5. Đảm bảo nội dung phù hợp với tiêu chuẩn chương trình học và phù hợp với trình độ của học sinh.\\n\"\n",
        "        \"6. Cung cấp các nguồn tài liệu tham khảo liên quan để hỗ trợ bài học. \"\n",
        "        \"7. Tất cả các output bằng tiếng Việt.\"\n",
        "    ),\n",
        "    expected_output=\"Một kế hoạch bài học chi tiết cho tiết học 45 phút về chủ đề {topic}, \"\n",
        "        \"bao gồm mục tiêu học tập, dàn ý chi tiết, hoạt động học tập, câu hỏi thảo luận, bài tập, và các nguồn tài liệu tham khảo.\",\n",
        "    output_file=\"baigiang.md\",\n",
        "    agent=lesson_designer,\n",
        ")\n"
      ]
    },
    {
      "cell_type": "code",
      "execution_count": 7,
      "metadata": {
        "id": "7j8MH28YlQak"
      },
      "outputs": [],
      "source": [
        "crew = Crew(\n",
        "    agents=[class_planner, lesson_designer],\n",
        "    tasks=[planning_task,lesson_plan_task],\n",
        "    verbose=2\n",
        ")"
      ]
    },
    {
      "cell_type": "code",
      "execution_count": 8,
      "metadata": {
        "colab": {
          "base_uri": "https://localhost:8080/"
        },
        "id": "UoHC4SFJlXuz",
        "outputId": "0d2fb325-8c1a-4d4b-a11c-7b0163c29ec2"
      },
      "outputs": [
        {
          "output_type": "stream",
          "name": "stdout",
          "text": [
            "\u001b[1m\u001b[95m [2024-08-10 13:36:43][DEBUG]: == Working Agent: Giáo viên Lập Kế Hoạch Nội Dung Giảng dạy\u001b[00m\n",
            "\u001b[1m\u001b[95m [2024-08-10 13:36:43][INFO]: == Starting Task: 1. Xác định các chủ đề quan trọng và phù hợp cho Môn vật lý lớp 10 trong vòng 6 tuần và phù hợp với các học sinh 30 em học sinh giỏi, 15 em học sinh khá, và 5 em học sinh trung bình bao gồm các khái niệm cơ bản, định lý, và có thể bao gồm ứng dụng thực tế của động học, độ dịch chuyển\n",
            "2. Xác định đối tượng học sinh, xem xét sở thích và những khó khăn của họ trong việc học môn Vật Lý.\n",
            "3. Phát triển một dàn ý chi tiết cho mỗi tuần bao gồm phần giới thiệu, kỹ thuật dạy học, các điểm chính, hoạt động học tập và câu hỏi thảo luận.\n",
            "4. Bao gồm các từ khóa quan trọng và các nguồn tài liệu tham khảo liên quan.5. Tất cả các output bằng tiếng Việt.\u001b[00m\n",
            "\n",
            "\n",
            "\u001b[1m> Entering new CrewAgentExecutor chain...\u001b[0m\n",
            "\u001b[32;1m\u001b[1;3mThought: I now can give a great answer  \n",
            "Final Answer: \n",
            "\n",
            "**Kế hoạch giảng dạy môn Vật Lý lớp 10 trong 6 tuần**\n",
            "\n",
            "### Tuần 1: Giới thiệu về Động học\n",
            "- **Giới thiệu**: Động học là gì? Tại sao nó quan trọng trong vật lý?\n",
            "- **Kỹ thuật dạy học**: Kỹ thuật chia nhóm, động não.\n",
            "- **Điểm chính**: \n",
            "  - Khái niệm về chuyển động, quỹ đạo, vị trí, thời gian.\n",
            "  - Định nghĩa về tốc độ và vận tốc.\n",
            "- **Hoạt động học tập**: \n",
            "  - Chia nhóm thảo luận về các ví dụ thực tế của chuyển động (xe cộ, người đi bộ).\n",
            "  - Thực hành đo tốc độ của một vật thể bằng cách sử dụng đồng hồ bấm giờ.\n",
            "- **Câu hỏi thảo luận**: \n",
            "  - Tại sao tốc độ và vận tốc lại khác nhau?\n",
            "  - Có những yếu tố nào ảnh hưởng đến chuyển động của một vật?\n",
            "\n",
            "### Tuần 2: Độ dịch chuyển và khoảng cách\n",
            "- **Giới thiệu**: Sự khác biệt giữa độ dịch chuyển và khoảng cách.\n",
            "- **Kỹ thuật dạy học**: Hỏi đáp, kỹ thuật đặt câu hỏi.\n",
            "- **Điểm chính**: \n",
            "  - Định nghĩa độ dịch chuyển và khoảng cách.\n",
            "  - Công thức tính toán và đơn vị đo.\n",
            "- **Hoạt động học tập**: \n",
            "  - Thực hành tính độ dịch chuyển và khoảng cách trong các bài tập thực tế.\n",
            "  - Sử dụng bản đồ để tính toán độ dịch chuyển giữa các điểm.\n",
            "- **Câu hỏi thảo luận**: \n",
            "  - Tại sao độ dịch chuyển có thể nhỏ hơn khoảng cách?\n",
            "  - Có thể nào có độ dịch chuyển âm không?\n",
            "\n",
            "### Tuần 3: Chuyển động thẳng đều\n",
            "- **Giới thiệu**: Khái niệm về chuyển động thẳng đều.\n",
            "- **Kỹ thuật dạy học**: Động não, chia nhóm.\n",
            "- **Điểm chính**: \n",
            "  - Đặc điểm của chuyển động thẳng đều.\n",
            "  - Công thức tính vận tốc trong chuyển động thẳng đều.\n",
            "- **Hoạt động học tập**: \n",
            "  - Thí nghiệm với xe đồ chơi để mô phỏng chuyển động thẳng đều.\n",
            "  - Phân tích đồ thị vận tốc-thời gian.\n",
            "- **Câu hỏi thảo luận**: \n",
            "  - Chuyển động thẳng đều có ứng dụng gì trong đời sống?\n",
            "  - Làm thế nào để nhận biết một vật đang chuyển động thẳng đều?\n",
            "\n",
            "### Tuần 4: Chuyển động thẳng biến đổi đều\n",
            "- **Giới thiệu**: Khái niệm về chuyển động thẳng biến đổi đều.\n",
            "- **Kỹ thuật dạy học**: Kỹ thuật đặt câu hỏi, hỏi đáp.\n",
            "- **Điểm chính**: \n",
            "  - Đặc điểm và công thức của chuyển động thẳng biến đổi đều.\n",
            "  - Khái niệm gia tốc.\n",
            "- **Hoạt động học tập**: \n",
            "  - Thí nghiệm đo gia tốc của một vật rơi tự do.\n",
            "  - Phân tích đồ thị vận tốc-thời gian cho chuyển động biến đổi đều.\n",
            "- **Câu hỏi thảo luận**: \n",
            "  - Gia tốc có thể âm không? Tại sao?\n",
            "  - Có những yếu tố nào ảnh hưởng đến gia tốc?\n",
            "\n",
            "### Tuần 5: Lực và định luật Newton\n",
            "- **Giới thiệu**: Khái niệm lực và vai trò của lực trong chuyển động.\n",
            "- **Kỹ thuật dạy học**: Chia nhóm, động não.\n",
            "- **Điểm chính**: \n",
            "  - Ba định luật Newton.\n",
            "  - Ứng dụng của các định luật trong thực tế.\n",
            "- **Hoạt động học tập**: \n",
            "  - Thí nghiệm với các vật thể khác nhau để chứng minh các định luật.\n",
            "  - Thảo luận nhóm về các tình huống thực tế áp dụng định luật Newton.\n",
            "- **Câu hỏi thảo luận**: \n",
            "  - Tại sao cần có lực để thay đổi trạng thái chuyển động?\n",
            "  - Có những loại lực nào trong tự nhiên?\n",
            "\n",
            "### Tuần 6: Ứng dụng của Động học trong đời sống\n",
            "- **Giới thiệu**: Tại sao động học quan trọng trong các lĩnh vực khác nhau?\n",
            "- **Kỹ thuật dạy học**: Hỏi đáp, động não.\n",
            "- **Điểm chính**: \n",
            "  - Ứng dụng của động học trong giao thông, thể thao, và công nghệ.\n",
            "- **Hoạt động học tập**: \n",
            "  - Dự án nhóm: Tìm hiểu và trình bày về một ứng dụng cụ thể của động học trong đời sống.\n",
            "  - Thảo luận về các công nghệ mới liên quan đến động học.\n",
            "- **Câu hỏi thảo luận**: \n",
            "  - Làm thế nào động học có thể cải thiện sự an toàn trong giao thông?\n",
            "  - Bạn nghĩ rằng động học sẽ phát triển như thế nào trong tương lai?\n",
            "\n",
            "### Phân tích đối tượng học sinh\n",
            "- **Học sinh giỏi**: Có khả năng tư duy logic tốt, thích khám phá và tìm hiểu sâu về các vấn đề phức tạp.\n",
            "- **Học sinh khá**: Cần sự hỗ trợ trong việc hiểu rõ các khái niệm và áp dụng vào thực tế.\n",
            "- **Học sinh trung bình**: Cần nhiều thời gian hơn để nắm bắt kiến thức cơ bản, có thể cần thêm ví dụ và thực hành.\n",
            "\n",
            "### Từ khóa quan trọng\n",
            "- Động học, độ dịch chuyển, khoảng cách, chuyển động thẳng đều, chuyển động thẳng biến đổi đều, lực, định luật Newton, gia tốc.\n",
            "\n",
            "### Tài liệu tham khảo\n",
            "1. Sách giáo khoa Vật lý lớp 10.\n",
            "2. Các bài báo và tài liệu nghiên cứu về động học.\n",
            "3. Các trang web giáo dục về vật lý như Khan Academy, Coursera.\n",
            "\n",
            "Kế hoạch này nhằm mục đích cung cấp cho học sinh một nền tảng vững chắc về động học và các khái niệm liên quan, đồng thời khuyến khích sự tham gia và phát triển tư duy phản biện thông qua các hoạt động học tập và thảo luận.\u001b[0m\n",
            "\n",
            "\u001b[1m> Finished chain.\u001b[0m\n",
            "\u001b[1m\u001b[92m [2024-08-10 13:37:05][DEBUG]: == [Giáo viên Lập Kế Hoạch Nội Dung Giảng dạy] Task output: **Kế hoạch giảng dạy môn Vật Lý lớp 10 trong 6 tuần**\n",
            "\n",
            "### Tuần 1: Giới thiệu về Động học\n",
            "- **Giới thiệu**: Động học là gì? Tại sao nó quan trọng trong vật lý?\n",
            "- **Kỹ thuật dạy học**: Kỹ thuật chia nhóm, động não.\n",
            "- **Điểm chính**: \n",
            "  - Khái niệm về chuyển động, quỹ đạo, vị trí, thời gian.\n",
            "  - Định nghĩa về tốc độ và vận tốc.\n",
            "- **Hoạt động học tập**: \n",
            "  - Chia nhóm thảo luận về các ví dụ thực tế của chuyển động (xe cộ, người đi bộ).\n",
            "  - Thực hành đo tốc độ của một vật thể bằng cách sử dụng đồng hồ bấm giờ.\n",
            "- **Câu hỏi thảo luận**: \n",
            "  - Tại sao tốc độ và vận tốc lại khác nhau?\n",
            "  - Có những yếu tố nào ảnh hưởng đến chuyển động của một vật?\n",
            "\n",
            "### Tuần 2: Độ dịch chuyển và khoảng cách\n",
            "- **Giới thiệu**: Sự khác biệt giữa độ dịch chuyển và khoảng cách.\n",
            "- **Kỹ thuật dạy học**: Hỏi đáp, kỹ thuật đặt câu hỏi.\n",
            "- **Điểm chính**: \n",
            "  - Định nghĩa độ dịch chuyển và khoảng cách.\n",
            "  - Công thức tính toán và đơn vị đo.\n",
            "- **Hoạt động học tập**: \n",
            "  - Thực hành tính độ dịch chuyển và khoảng cách trong các bài tập thực tế.\n",
            "  - Sử dụng bản đồ để tính toán độ dịch chuyển giữa các điểm.\n",
            "- **Câu hỏi thảo luận**: \n",
            "  - Tại sao độ dịch chuyển có thể nhỏ hơn khoảng cách?\n",
            "  - Có thể nào có độ dịch chuyển âm không?\n",
            "\n",
            "### Tuần 3: Chuyển động thẳng đều\n",
            "- **Giới thiệu**: Khái niệm về chuyển động thẳng đều.\n",
            "- **Kỹ thuật dạy học**: Động não, chia nhóm.\n",
            "- **Điểm chính**: \n",
            "  - Đặc điểm của chuyển động thẳng đều.\n",
            "  - Công thức tính vận tốc trong chuyển động thẳng đều.\n",
            "- **Hoạt động học tập**: \n",
            "  - Thí nghiệm với xe đồ chơi để mô phỏng chuyển động thẳng đều.\n",
            "  - Phân tích đồ thị vận tốc-thời gian.\n",
            "- **Câu hỏi thảo luận**: \n",
            "  - Chuyển động thẳng đều có ứng dụng gì trong đời sống?\n",
            "  - Làm thế nào để nhận biết một vật đang chuyển động thẳng đều?\n",
            "\n",
            "### Tuần 4: Chuyển động thẳng biến đổi đều\n",
            "- **Giới thiệu**: Khái niệm về chuyển động thẳng biến đổi đều.\n",
            "- **Kỹ thuật dạy học**: Kỹ thuật đặt câu hỏi, hỏi đáp.\n",
            "- **Điểm chính**: \n",
            "  - Đặc điểm và công thức của chuyển động thẳng biến đổi đều.\n",
            "  - Khái niệm gia tốc.\n",
            "- **Hoạt động học tập**: \n",
            "  - Thí nghiệm đo gia tốc của một vật rơi tự do.\n",
            "  - Phân tích đồ thị vận tốc-thời gian cho chuyển động biến đổi đều.\n",
            "- **Câu hỏi thảo luận**: \n",
            "  - Gia tốc có thể âm không? Tại sao?\n",
            "  - Có những yếu tố nào ảnh hưởng đến gia tốc?\n",
            "\n",
            "### Tuần 5: Lực và định luật Newton\n",
            "- **Giới thiệu**: Khái niệm lực và vai trò của lực trong chuyển động.\n",
            "- **Kỹ thuật dạy học**: Chia nhóm, động não.\n",
            "- **Điểm chính**: \n",
            "  - Ba định luật Newton.\n",
            "  - Ứng dụng của các định luật trong thực tế.\n",
            "- **Hoạt động học tập**: \n",
            "  - Thí nghiệm với các vật thể khác nhau để chứng minh các định luật.\n",
            "  - Thảo luận nhóm về các tình huống thực tế áp dụng định luật Newton.\n",
            "- **Câu hỏi thảo luận**: \n",
            "  - Tại sao cần có lực để thay đổi trạng thái chuyển động?\n",
            "  - Có những loại lực nào trong tự nhiên?\n",
            "\n",
            "### Tuần 6: Ứng dụng của Động học trong đời sống\n",
            "- **Giới thiệu**: Tại sao động học quan trọng trong các lĩnh vực khác nhau?\n",
            "- **Kỹ thuật dạy học**: Hỏi đáp, động não.\n",
            "- **Điểm chính**: \n",
            "  - Ứng dụng của động học trong giao thông, thể thao, và công nghệ.\n",
            "- **Hoạt động học tập**: \n",
            "  - Dự án nhóm: Tìm hiểu và trình bày về một ứng dụng cụ thể của động học trong đời sống.\n",
            "  - Thảo luận về các công nghệ mới liên quan đến động học.\n",
            "- **Câu hỏi thảo luận**: \n",
            "  - Làm thế nào động học có thể cải thiện sự an toàn trong giao thông?\n",
            "  - Bạn nghĩ rằng động học sẽ phát triển như thế nào trong tương lai?\n",
            "\n",
            "### Phân tích đối tượng học sinh\n",
            "- **Học sinh giỏi**: Có khả năng tư duy logic tốt, thích khám phá và tìm hiểu sâu về các vấn đề phức tạp.\n",
            "- **Học sinh khá**: Cần sự hỗ trợ trong việc hiểu rõ các khái niệm và áp dụng vào thực tế.\n",
            "- **Học sinh trung bình**: Cần nhiều thời gian hơn để nắm bắt kiến thức cơ bản, có thể cần thêm ví dụ và thực hành.\n",
            "\n",
            "### Từ khóa quan trọng\n",
            "- Động học, độ dịch chuyển, khoảng cách, chuyển động thẳng đều, chuyển động thẳng biến đổi đều, lực, định luật Newton, gia tốc.\n",
            "\n",
            "### Tài liệu tham khảo\n",
            "1. Sách giáo khoa Vật lý lớp 10.\n",
            "2. Các bài báo và tài liệu nghiên cứu về động học.\n",
            "3. Các trang web giáo dục về vật lý như Khan Academy, Coursera.\n",
            "\n",
            "Kế hoạch này nhằm mục đích cung cấp cho học sinh một nền tảng vững chắc về động học và các khái niệm liên quan, đồng thời khuyến khích sự tham gia và phát triển tư duy phản biện thông qua các hoạt động học tập và thảo luận.\n",
            "\n",
            "\u001b[00m\n",
            "\u001b[1m\u001b[95m [2024-08-10 13:37:05][DEBUG]: == Working Agent: Giáo viên Thiết Kế Bài Học Vật Lý\u001b[00m\n",
            "\u001b[1m\u001b[95m [2024-08-10 13:37:05][INFO]: == Starting Task: 1. Xác định mục tiêu học tập cho tiết học 45 phút về chủ đề Môn vật lý lớp 10.\n",
            "2. Lập dàn ý chi tiết cho tiết học, bao gồm phần giới thiệu, các điểm chính, hoạt động học tập, và kết luận.\n",
            "3. Phát triển các hoạt động học tập tương tác và hấp dẫn để giúp học sinh hiểu sâu hơn về chủ đề.\n",
            "4. Bao gồm các câu hỏi thảo luận và bài tập để kiểm tra sự hiểu biết của học sinh.\n",
            "5. Đảm bảo nội dung phù hợp với tiêu chuẩn chương trình học và phù hợp với trình độ của học sinh.\n",
            "6. Cung cấp các nguồn tài liệu tham khảo liên quan để hỗ trợ bài học. 7. Tất cả các output bằng tiếng Việt.\u001b[00m\n",
            "\n",
            "\n",
            "\u001b[1m> Entering new CrewAgentExecutor chain...\u001b[0m\n",
            "\u001b[32;1m\u001b[1;3mFinal Answer:\n",
            "\n",
            "### Kế Hoạch Bài Học Vật Lý Lớp 10 - Tiết Học 45 Phút: Động Học\n",
            "\n",
            "#### 1. Mục Tiêu Học Tập\n",
            "- Học sinh hiểu rõ khái niệm về động học và tầm quan trọng của nó trong vật lý.\n",
            "- Học sinh có khả năng phân biệt giữa chuyển động, quỹ đạo, vị trí, thời gian, tốc độ và vận tốc.\n",
            "- Học sinh có thể áp dụng công thức tính toán tốc độ và vận tốc trong các tình huống thực tế.\n",
            "\n",
            "#### 2. Dàn Ý Chi Tiết\n",
            "- **Giới thiệu (5 phút)**\n",
            "  - Giới thiệu khái niệm động học và vai trò của nó trong vật lý.\n",
            "  - Đặt câu hỏi khởi động: \"Các bạn có thể kể tên một số ví dụ về chuyển động trong đời sống hàng ngày không?\"\n",
            "\n",
            "- **Điểm Chính (20 phút)**\n",
            "  - **Khái niệm về chuyển động, quỹ đạo, vị trí, thời gian (5 phút)**\n",
            "    - Giải thích các khái niệm cơ bản.\n",
            "    - Ví dụ minh họa: Chuyển động của một chiếc xe trên đường.\n",
            "    \n",
            "  - **Định nghĩa về tốc độ và vận tốc (5 phút)**\n",
            "    - Tốc độ: Định nghĩa và công thức tính.\n",
            "    - Vận tốc: Định nghĩa và sự khác biệt với tốc độ.\n",
            "    \n",
            "  - **Thực hành đo tốc độ (10 phút)**\n",
            "    - Chia nhóm học sinh và thực hiện thí nghiệm đo tốc độ của một vật thể (ví dụ: xe đồ chơi) bằng đồng hồ bấm giờ.\n",
            "\n",
            "- **Hoạt Động Học Tập (15 phút)**\n",
            "  - **Thảo luận nhóm (5 phút)**\n",
            "    - Học sinh thảo luận về các ví dụ thực tế của chuyển động mà họ đã quan sát.\n",
            "    - Các nhóm chia sẻ kết quả thảo luận với lớp.\n",
            "    \n",
            "  - **Thực hành thực tế (10 phút)**\n",
            "    - Học sinh thực hiện bài tập tính tốc độ và vận tốc từ các tình huống thực tế mà họ đã thảo luận.\n",
            "  \n",
            "- **Kết Luận (5 phút)**\n",
            "  - Tóm tắt lại các khái niệm chính đã học.\n",
            "  - Nhấn mạnh tầm quan trọng của tốc độ và vận tốc trong đời sống hàng ngày.\n",
            "  - Đặt câu hỏi mở: \"Các bạn nghĩ rằng tốc độ và vận tốc có ý nghĩa gì trong các môn thể thao?\"\n",
            "\n",
            "#### 3. Các Hoạt Động Học Tập Tương Tác\n",
            "- **Chia Nhóm Thảo Luận**\n",
            "  - Học sinh sẽ được chia thành các nhóm nhỏ để thảo luận về các ví dụ chuyển động trong đời sống như xe cộ, người đi bộ, và các phương tiện khác. Mỗi nhóm sẽ chọn một ví dụ để trình bày.\n",
            "\n",
            "- **Thí Nghiệm Đo Tốc Độ**\n",
            "  - Học sinh sẽ sử dụng đồng hồ bấm giờ để đo tốc độ của một vật thể (như xe đồ chơi) trong một khoảng thời gian nhất định và tính toán tốc độ.\n",
            "\n",
            "#### 4. Câu Hỏi Thảo Luận\n",
            "- Tại sao tốc độ và vận tốc lại khác nhau? \n",
            "- Có những yếu tố nào ảnh hưởng đến chuyển động của một vật?\n",
            "- Tại sao việc hiểu về tốc độ và vận tốc lại quan trọng trong các lĩnh vực như giao thông và thể thao?\n",
            "\n",
            "#### 5. Bài Tập Kiểm Tra Sự Hiểu Biết\n",
            "- Học sinh sẽ được giao một bài tập về nhà để tính toán tốc độ và vận tốc của một số tình huống thực tế khác nhau (ví dụ: thời gian di chuyển từ nhà đến trường).\n",
            "\n",
            "#### 6. Tài Liệu Tham Khảo\n",
            "1. Sách giáo khoa Vật lý lớp 10.\n",
            "2. Các bài báo và tài liệu nghiên cứu về động học.\n",
            "3. Các trang web giáo dục về vật lý như Khan Academy, Coursera.\n",
            "\n",
            "### Kết Luận\n",
            "Kế hoạch bài học này nhằm cung cấp cho học sinh một nền tảng vững chắc về động học và các khái niệm liên quan, đồng thời khuyến khích sự tham gia và phát triển tư duy phản biện thông qua các hoạt động học tập và thảo luận. Học sinh sẽ có cơ hội áp dụng lý thuyết vào thực tiễn, từ đó nâng cao khả năng hiểu biết và yêu thích môn Vật lý.\u001b[0m\n",
            "\n",
            "\u001b[1m> Finished chain.\u001b[0m\n",
            "\u001b[1m\u001b[92m [2024-08-10 13:37:12][DEBUG]: == [Giáo viên Thiết Kế Bài Học Vật Lý] Task output: ### Kế Hoạch Bài Học Vật Lý Lớp 10 - Tiết Học 45 Phút: Động Học\n",
            "\n",
            "#### 1. Mục Tiêu Học Tập\n",
            "- Học sinh hiểu rõ khái niệm về động học và tầm quan trọng của nó trong vật lý.\n",
            "- Học sinh có khả năng phân biệt giữa chuyển động, quỹ đạo, vị trí, thời gian, tốc độ và vận tốc.\n",
            "- Học sinh có thể áp dụng công thức tính toán tốc độ và vận tốc trong các tình huống thực tế.\n",
            "\n",
            "#### 2. Dàn Ý Chi Tiết\n",
            "- **Giới thiệu (5 phút)**\n",
            "  - Giới thiệu khái niệm động học và vai trò của nó trong vật lý.\n",
            "  - Đặt câu hỏi khởi động: \"Các bạn có thể kể tên một số ví dụ về chuyển động trong đời sống hàng ngày không?\"\n",
            "\n",
            "- **Điểm Chính (20 phút)**\n",
            "  - **Khái niệm về chuyển động, quỹ đạo, vị trí, thời gian (5 phút)**\n",
            "    - Giải thích các khái niệm cơ bản.\n",
            "    - Ví dụ minh họa: Chuyển động của một chiếc xe trên đường.\n",
            "    \n",
            "  - **Định nghĩa về tốc độ và vận tốc (5 phút)**\n",
            "    - Tốc độ: Định nghĩa và công thức tính.\n",
            "    - Vận tốc: Định nghĩa và sự khác biệt với tốc độ.\n",
            "    \n",
            "  - **Thực hành đo tốc độ (10 phút)**\n",
            "    - Chia nhóm học sinh và thực hiện thí nghiệm đo tốc độ của một vật thể (ví dụ: xe đồ chơi) bằng đồng hồ bấm giờ.\n",
            "\n",
            "- **Hoạt Động Học Tập (15 phút)**\n",
            "  - **Thảo luận nhóm (5 phút)**\n",
            "    - Học sinh thảo luận về các ví dụ thực tế của chuyển động mà họ đã quan sát.\n",
            "    - Các nhóm chia sẻ kết quả thảo luận với lớp.\n",
            "    \n",
            "  - **Thực hành thực tế (10 phút)**\n",
            "    - Học sinh thực hiện bài tập tính tốc độ và vận tốc từ các tình huống thực tế mà họ đã thảo luận.\n",
            "  \n",
            "- **Kết Luận (5 phút)**\n",
            "  - Tóm tắt lại các khái niệm chính đã học.\n",
            "  - Nhấn mạnh tầm quan trọng của tốc độ và vận tốc trong đời sống hàng ngày.\n",
            "  - Đặt câu hỏi mở: \"Các bạn nghĩ rằng tốc độ và vận tốc có ý nghĩa gì trong các môn thể thao?\"\n",
            "\n",
            "#### 3. Các Hoạt Động Học Tập Tương Tác\n",
            "- **Chia Nhóm Thảo Luận**\n",
            "  - Học sinh sẽ được chia thành các nhóm nhỏ để thảo luận về các ví dụ chuyển động trong đời sống như xe cộ, người đi bộ, và các phương tiện khác. Mỗi nhóm sẽ chọn một ví dụ để trình bày.\n",
            "\n",
            "- **Thí Nghiệm Đo Tốc Độ**\n",
            "  - Học sinh sẽ sử dụng đồng hồ bấm giờ để đo tốc độ của một vật thể (như xe đồ chơi) trong một khoảng thời gian nhất định và tính toán tốc độ.\n",
            "\n",
            "#### 4. Câu Hỏi Thảo Luận\n",
            "- Tại sao tốc độ và vận tốc lại khác nhau? \n",
            "- Có những yếu tố nào ảnh hưởng đến chuyển động của một vật?\n",
            "- Tại sao việc hiểu về tốc độ và vận tốc lại quan trọng trong các lĩnh vực như giao thông và thể thao?\n",
            "\n",
            "#### 5. Bài Tập Kiểm Tra Sự Hiểu Biết\n",
            "- Học sinh sẽ được giao một bài tập về nhà để tính toán tốc độ và vận tốc của một số tình huống thực tế khác nhau (ví dụ: thời gian di chuyển từ nhà đến trường).\n",
            "\n",
            "#### 6. Tài Liệu Tham Khảo\n",
            "1. Sách giáo khoa Vật lý lớp 10.\n",
            "2. Các bài báo và tài liệu nghiên cứu về động học.\n",
            "3. Các trang web giáo dục về vật lý như Khan Academy, Coursera.\n",
            "\n",
            "### Kết Luận\n",
            "Kế hoạch bài học này nhằm cung cấp cho học sinh một nền tảng vững chắc về động học và các khái niệm liên quan, đồng thời khuyến khích sự tham gia và phát triển tư duy phản biện thông qua các hoạt động học tập và thảo luận. Học sinh sẽ có cơ hội áp dụng lý thuyết vào thực tiễn, từ đó nâng cao khả năng hiểu biết và yêu thích môn Vật lý.\n",
            "\n",
            "\u001b[00m\n",
            "### Kế Hoạch Bài Học Vật Lý Lớp 10 - Tiết Học 45 Phút: Động Học\n",
            "\n",
            "#### 1. Mục Tiêu Học Tập\n",
            "- Học sinh hiểu rõ khái niệm về động học và tầm quan trọng của nó trong vật lý.\n",
            "- Học sinh có khả năng phân biệt giữa chuyển động, quỹ đạo, vị trí, thời gian, tốc độ và vận tốc.\n",
            "- Học sinh có thể áp dụng công thức tính toán tốc độ và vận tốc trong các tình huống thực tế.\n",
            "\n",
            "#### 2. Dàn Ý Chi Tiết\n",
            "- **Giới thiệu (5 phút)**\n",
            "  - Giới thiệu khái niệm động học và vai trò của nó trong vật lý.\n",
            "  - Đặt câu hỏi khởi động: \"Các bạn có thể kể tên một số ví dụ về chuyển động trong đời sống hàng ngày không?\"\n",
            "\n",
            "- **Điểm Chính (20 phút)**\n",
            "  - **Khái niệm về chuyển động, quỹ đạo, vị trí, thời gian (5 phút)**\n",
            "    - Giải thích các khái niệm cơ bản.\n",
            "    - Ví dụ minh họa: Chuyển động của một chiếc xe trên đường.\n",
            "    \n",
            "  - **Định nghĩa về tốc độ và vận tốc (5 phút)**\n",
            "    - Tốc độ: Định nghĩa và công thức tính.\n",
            "    - Vận tốc: Định nghĩa và sự khác biệt với tốc độ.\n",
            "    \n",
            "  - **Thực hành đo tốc độ (10 phút)**\n",
            "    - Chia nhóm học sinh và thực hiện thí nghiệm đo tốc độ của một vật thể (ví dụ: xe đồ chơi) bằng đồng hồ bấm giờ.\n",
            "\n",
            "- **Hoạt Động Học Tập (15 phút)**\n",
            "  - **Thảo luận nhóm (5 phút)**\n",
            "    - Học sinh thảo luận về các ví dụ thực tế của chuyển động mà họ đã quan sát.\n",
            "    - Các nhóm chia sẻ kết quả thảo luận với lớp.\n",
            "    \n",
            "  - **Thực hành thực tế (10 phút)**\n",
            "    - Học sinh thực hiện bài tập tính tốc độ và vận tốc từ các tình huống thực tế mà họ đã thảo luận.\n",
            "  \n",
            "- **Kết Luận (5 phút)**\n",
            "  - Tóm tắt lại các khái niệm chính đã học.\n",
            "  - Nhấn mạnh tầm quan trọng của tốc độ và vận tốc trong đời sống hàng ngày.\n",
            "  - Đặt câu hỏi mở: \"Các bạn nghĩ rằng tốc độ và vận tốc có ý nghĩa gì trong các môn thể thao?\"\n",
            "\n",
            "#### 3. Các Hoạt Động Học Tập Tương Tác\n",
            "- **Chia Nhóm Thảo Luận**\n",
            "  - Học sinh sẽ được chia thành các nhóm nhỏ để thảo luận về các ví dụ chuyển động trong đời sống như xe cộ, người đi bộ, và các phương tiện khác. Mỗi nhóm sẽ chọn một ví dụ để trình bày.\n",
            "\n",
            "- **Thí Nghiệm Đo Tốc Độ**\n",
            "  - Học sinh sẽ sử dụng đồng hồ bấm giờ để đo tốc độ của một vật thể (như xe đồ chơi) trong một khoảng thời gian nhất định và tính toán tốc độ.\n",
            "\n",
            "#### 4. Câu Hỏi Thảo Luận\n",
            "- Tại sao tốc độ và vận tốc lại khác nhau? \n",
            "- Có những yếu tố nào ảnh hưởng đến chuyển động của một vật?\n",
            "- Tại sao việc hiểu về tốc độ và vận tốc lại quan trọng trong các lĩnh vực như giao thông và thể thao?\n",
            "\n",
            "#### 5. Bài Tập Kiểm Tra Sự Hiểu Biết\n",
            "- Học sinh sẽ được giao một bài tập về nhà để tính toán tốc độ và vận tốc của một số tình huống thực tế khác nhau (ví dụ: thời gian di chuyển từ nhà đến trường).\n",
            "\n",
            "#### 6. Tài Liệu Tham Khảo\n",
            "1. Sách giáo khoa Vật lý lớp 10.\n",
            "2. Các bài báo và tài liệu nghiên cứu về động học.\n",
            "3. Các trang web giáo dục về vật lý như Khan Academy, Coursera.\n",
            "\n",
            "### Kết Luận\n",
            "Kế hoạch bài học này nhằm cung cấp cho học sinh một nền tảng vững chắc về động học và các khái niệm liên quan, đồng thời khuyến khích sự tham gia và phát triển tư duy phản biện thông qua các hoạt động học tập và thảo luận. Học sinh sẽ có cơ hội áp dụng lý thuyết vào thực tiễn, từ đó nâng cao khả năng hiểu biết và yêu thích môn Vật lý.\n"
          ]
        }
      ],
      "source": [
        "result = crew.kickoff(inputs={'topic': 'Môn vật lý lớp 10',\n",
        "                              'range': '6 tuần',\n",
        "                              'sub_topics': 'động học, độ dịch chuyển',\n",
        "                              \"students\": \"30 em học sinh giỏi, 15 em học sinh khá, và 5 em học sinh trung bình\"})\n",
        "print(result)"
      ]
    },
    {
      "cell_type": "code",
      "execution_count": 9,
      "metadata": {
        "colab": {
          "base_uri": "https://localhost:8080/"
        },
        "id": "aiMDgfYVmk0d",
        "outputId": "10063dc1-7fc4-462b-d5c7-e3f5d0ec381e"
      },
      "outputs": [
        {
          "output_type": "stream",
          "name": "stdout",
          "text": [
            "-----------------------------------------END OF 2 AGENTS---------------------------------------\n"
          ]
        }
      ],
      "source": [
        "print(\"-----------------------------------------END OF 2 AGENTS---------------------------------------\")"
      ]
    },
    {
      "cell_type": "markdown",
      "metadata": {
        "id": "WKt6MoxO38S8"
      },
      "source": [
        "## Nhân Viên Thứ 3"
      ]
    },
    {
      "cell_type": "code",
      "source": [
        "!npx degit STEAMforVietnam/genai-agents-for-teachers/tools tools --force"
      ],
      "metadata": {
        "id": "A26rPcgcjv9J",
        "outputId": "a4723432-d4a4-48a3-9c2a-dce2712dd946",
        "colab": {
          "base_uri": "https://localhost:8080/"
        }
      },
      "execution_count": 4,
      "outputs": [
        {
          "output_type": "stream",
          "name": "stdout",
          "text": [
            "\u001b[36m> cloned \u001b[1mSTEAMforVietnam/genai-agents-for-teachers\u001b[22m#\u001b[1mHEAD\u001b[22m to tools\u001b[39m\n"
          ]
        }
      ]
    },
    {
      "cell_type": "code",
      "execution_count": 5,
      "metadata": {
        "id": "_PUJSIdJdnvh"
      },
      "outputs": [],
      "source": [
        "os.environ[\"DATABSE_PUBLIC_ENDPOINT\"] = userdata.get(\"DATABSE_PUBLIC_ENDPOINT\")\n",
        "os.environ[\"OPENAI_API_KEY\"] = userdata.get(\"OPENAI_API_KEY\")"
      ]
    },
    {
      "cell_type": "code",
      "source": [
        "from tools.exam import ExamTool"
      ],
      "metadata": {
        "id": "1QWScw0qkJtY"
      },
      "execution_count": 6,
      "outputs": []
    },
    {
      "cell_type": "code",
      "execution_count": 7,
      "metadata": {
        "id": "mgbXBnl5SIXB"
      },
      "outputs": [],
      "source": [
        "test_creator = Agent(\n",
        "    role=\"Giáo viên tạo Bài Kiểm Tra và Bài Tập Vật Lý\",\n",
        "    goal=\"Tạo các bài kiểm tra và bài tập chính xác và phù hợp cho từng chủ đề của môn Vật Lý 10 \",\n",
        "    backstory=\"Bạn chịu trách nhiệm tạo các bài kiểm tra và bài tập cho môn Vật Lý 10. \"\n",
        "              \"Bạn dựa vào công việc của Giáo viên Lập Kế Hoạch Nội Dung và Giáo viên Thiết Kế Bài Học, \"\n",
        "              \"những người cung cấp dàn ý và ngữ cảnh liên quan đến chủ đề. \"\n",
        "              \"Bạn tạo các bài kiểm tra và bài tập nhằm đánh giá sự hiểu biết của học sinh \"\n",
        "              \"và củng cố kiến thức đã học. \"\n",
        "              \"Bạn đảm bảo các bài kiểm tra và bài tập phù hợp với tiêu chuẩn chương trình học \"\n",
        "              \"và trình độ của học sinh.\",\n",
        "    allow_delegation=False,\n",
        "    llm=open_ai_llm,\n",
        "    verbose=True,\n",
        "    tools=[ExamTool.get_chapter]\n",
        ")\n",
        "\n",
        "\n",
        "test_assignment_task = Task(\n",
        "    description=(\n",
        "        \"1. Xác định các khái niệm và kỹ năng cần kiểm tra cho từng chủ đề {sub_topics}\\n\"\n",
        "        \"2. Tạo các câu hỏi trắc nghiệm và tự luận để đánh giá sự hiểu biết của học sinh về từng chủ đề trong {sub_topics}.\\n\"\n",
        "        \"3. Phát triển các bài tập để học sinh thực hành và củng cố kiến thức.\\n\"\n",
        "        \"4. Bao gồm các câu hỏi và bài tập ở nhiều mức độ khó khác nhau để phù hợp với trình độ của học sinh, đi từ dễ đến khó, bao gồm các bài kiểm tra 15 phút và một tiết (45 phút).\\n\"\n",
        "        \"5. Đảm bảo các câu hỏi và bài tập phù hợp với tiêu chuẩn chương trình học.\\n\"\n",
        "        \"6. Cung cấp hướng dẫn chấm điểm và đáp án cho các câu hỏi và bài tập.\"\n",
        "        \"7. Tất cả các output bằng tiếng Việt.\"\n",
        "    ),\n",
        "    expected_output=\"Một bộ đề kiểm tra và bài tập chi tiết cho chủ đề {topic} và theo từng {sub_topics}\"\n",
        "        \"bao gồm câu hỏi trắc nghiệm, câu hỏi tự luận, bài tập, hướng dẫn chấm điểm và đáp án. Trả lại output theo dạng Markdown\",\n",
        "    agent=test_creator,\n",
        ")"
      ]
    },
    {
      "cell_type": "code",
      "execution_count": 8,
      "metadata": {
        "id": "_ueX9rAVSMMk"
      },
      "outputs": [],
      "source": [
        "crew = Crew(\n",
        "    # agents=[class_planner, lesson_designer, test_creator],\n",
        "    agents=[test_creator],\n",
        "    # tasks=[planning_task,lesson_plan_task, test_assignment_task],\n",
        "    tasks=[test_assignment_task],\n",
        "    verbose=2\n",
        ")\n"
      ]
    },
    {
      "cell_type": "code",
      "execution_count": 9,
      "metadata": {
        "colab": {
          "base_uri": "https://localhost:8080/",
          "height": 1000
        },
        "id": "_z5ATaZGSbma",
        "outputId": "723a73e8-12eb-4649-c859-7237edd2c4b2"
      },
      "outputs": [
        {
          "output_type": "stream",
          "name": "stdout",
          "text": [
            "\u001b[1m\u001b[95m [2024-08-10 13:55:43][DEBUG]: == Working Agent: Giáo viên tạo Bài Kiểm Tra và Bài Tập Vật Lý\u001b[00m\n",
            "\u001b[1m\u001b[95m [2024-08-10 13:55:43][INFO]: == Starting Task: 1. Xác định các khái niệm và kỹ năng cần kiểm tra cho từng chủ đề động học, độ dịch chuyển\n",
            "2. Tạo các câu hỏi trắc nghiệm và tự luận để đánh giá sự hiểu biết của học sinh về từng chủ đề trong động học, độ dịch chuyển.\n",
            "3. Phát triển các bài tập để học sinh thực hành và củng cố kiến thức.\n",
            "4. Bao gồm các câu hỏi và bài tập ở nhiều mức độ khó khác nhau để phù hợp với trình độ của học sinh, đi từ dễ đến khó, bao gồm các bài kiểm tra 15 phút và một tiết (45 phút).\n",
            "5. Đảm bảo các câu hỏi và bài tập phù hợp với tiêu chuẩn chương trình học.\n",
            "6. Cung cấp hướng dẫn chấm điểm và đáp án cho các câu hỏi và bài tập.7. Tất cả các output bằng tiếng Việt.\u001b[00m\n",
            "\n",
            "\n",
            "\u001b[1m> Entering new CrewAgentExecutor chain...\u001b[0m\n",
            "\u001b[32;1m\u001b[1;3mAction: Get Chapter Tool  \n",
            "Action Input: {\"query\":\"động học, độ dịch chuyển\",\"subject\":\"vat_ly\"}  \u001b[0m"
          ]
        },
        {
          "output_type": "error",
          "ename": "KeyboardInterrupt",
          "evalue": "",
          "traceback": [
            "\u001b[0;31m---------------------------------------------------------------------------\u001b[0m",
            "\u001b[0;31m_InactiveRpcError\u001b[0m                         Traceback (most recent call last)",
            "\u001b[0;32m/usr/local/lib/python3.10/dist-packages/pymilvus/decorators.py\u001b[0m in \u001b[0;36mhandler\u001b[0;34m(*args, **kwargs)\u001b[0m\n\u001b[1;32m     86\u001b[0m                 \u001b[0;32mtry\u001b[0m\u001b[0;34m:\u001b[0m\u001b[0;34m\u001b[0m\u001b[0;34m\u001b[0m\u001b[0m\n\u001b[0;32m---> 87\u001b[0;31m                     \u001b[0;32mreturn\u001b[0m \u001b[0mfunc\u001b[0m\u001b[0;34m(\u001b[0m\u001b[0;34m*\u001b[0m\u001b[0margs\u001b[0m\u001b[0;34m,\u001b[0m \u001b[0;34m**\u001b[0m\u001b[0mkwargs\u001b[0m\u001b[0;34m)\u001b[0m\u001b[0;34m\u001b[0m\u001b[0;34m\u001b[0m\u001b[0m\n\u001b[0m\u001b[1;32m     88\u001b[0m                 \u001b[0;32mexcept\u001b[0m \u001b[0mgrpc\u001b[0m\u001b[0;34m.\u001b[0m\u001b[0mRpcError\u001b[0m \u001b[0;32mas\u001b[0m \u001b[0me\u001b[0m\u001b[0;34m:\u001b[0m\u001b[0;34m\u001b[0m\u001b[0;34m\u001b[0m\u001b[0m\n",
            "\u001b[0;32m/usr/local/lib/python3.10/dist-packages/pymilvus/decorators.py\u001b[0m in \u001b[0;36mhandler\u001b[0;34m(*args, **kwargs)\u001b[0m\n\u001b[1;32m    220\u001b[0m                 \u001b[0;32mraise\u001b[0m \u001b[0mMilvusException\u001b[0m\u001b[0;34m(\u001b[0m\u001b[0mmessage\u001b[0m\u001b[0;34m=\u001b[0m\u001b[0mmsg\u001b[0m\u001b[0;34m)\u001b[0m \u001b[0;32mfrom\u001b[0m \u001b[0me\u001b[0m\u001b[0;34m\u001b[0m\u001b[0;34m\u001b[0m\u001b[0m\n\u001b[0;32m--> 221\u001b[0;31m             \u001b[0;32mraise\u001b[0m \u001b[0me\u001b[0m \u001b[0;32mfrom\u001b[0m \u001b[0me\u001b[0m\u001b[0;34m\u001b[0m\u001b[0;34m\u001b[0m\u001b[0m\n\u001b[0m\u001b[1;32m    222\u001b[0m         \u001b[0;32mexcept\u001b[0m \u001b[0mException\u001b[0m \u001b[0;32mas\u001b[0m \u001b[0me\u001b[0m\u001b[0;34m:\u001b[0m\u001b[0;34m\u001b[0m\u001b[0;34m\u001b[0m\u001b[0m\n",
            "\u001b[0;32m/usr/local/lib/python3.10/dist-packages/pymilvus/decorators.py\u001b[0m in \u001b[0;36mhandler\u001b[0;34m(*args, **kwargs)\u001b[0m\n\u001b[1;32m    212\u001b[0m         \u001b[0;32mtry\u001b[0m\u001b[0;34m:\u001b[0m\u001b[0;34m\u001b[0m\u001b[0;34m\u001b[0m\u001b[0m\n\u001b[0;32m--> 213\u001b[0;31m             \u001b[0;32mreturn\u001b[0m \u001b[0mfunc\u001b[0m\u001b[0;34m(\u001b[0m\u001b[0;34m*\u001b[0m\u001b[0margs\u001b[0m\u001b[0;34m,\u001b[0m \u001b[0;34m**\u001b[0m\u001b[0mkwargs\u001b[0m\u001b[0;34m)\u001b[0m\u001b[0;34m\u001b[0m\u001b[0;34m\u001b[0m\u001b[0m\n\u001b[0m\u001b[1;32m    214\u001b[0m         \u001b[0;32mexcept\u001b[0m \u001b[0mgrpc\u001b[0m\u001b[0;34m.\u001b[0m\u001b[0mRpcError\u001b[0m \u001b[0;32mas\u001b[0m \u001b[0me\u001b[0m\u001b[0;34m:\u001b[0m\u001b[0;34m\u001b[0m\u001b[0;34m\u001b[0m\u001b[0m\n",
            "\u001b[0;32m/usr/local/lib/python3.10/dist-packages/pymilvus/client/grpc_handler.py\u001b[0m in \u001b[0;36m__internal_register\u001b[0;34m(self, user, host, **kwargs)\u001b[0m\n\u001b[1;32m   1975\u001b[0m         \u001b[0mreq\u001b[0m \u001b[0;34m=\u001b[0m \u001b[0mPrepare\u001b[0m\u001b[0;34m.\u001b[0m\u001b[0mregister_request\u001b[0m\u001b[0;34m(\u001b[0m\u001b[0muser\u001b[0m\u001b[0;34m,\u001b[0m \u001b[0mhost\u001b[0m\u001b[0;34m)\u001b[0m\u001b[0;34m\u001b[0m\u001b[0;34m\u001b[0m\u001b[0m\n\u001b[0;32m-> 1976\u001b[0;31m         \u001b[0mresponse\u001b[0m \u001b[0;34m=\u001b[0m \u001b[0mself\u001b[0m\u001b[0;34m.\u001b[0m\u001b[0m_stub\u001b[0m\u001b[0;34m.\u001b[0m\u001b[0mConnect\u001b[0m\u001b[0;34m(\u001b[0m\u001b[0mrequest\u001b[0m\u001b[0;34m=\u001b[0m\u001b[0mreq\u001b[0m\u001b[0;34m)\u001b[0m\u001b[0;34m\u001b[0m\u001b[0;34m\u001b[0m\u001b[0m\n\u001b[0m\u001b[1;32m   1977\u001b[0m         \u001b[0mcheck_status\u001b[0m\u001b[0;34m(\u001b[0m\u001b[0mresponse\u001b[0m\u001b[0;34m.\u001b[0m\u001b[0mstatus\u001b[0m\u001b[0;34m)\u001b[0m\u001b[0;34m\u001b[0m\u001b[0;34m\u001b[0m\u001b[0m\n",
            "\u001b[0;32m/usr/local/lib/python3.10/dist-packages/grpc/_interceptor.py\u001b[0m in \u001b[0;36m__call__\u001b[0;34m(self, request, timeout, metadata, credentials, wait_for_ready, compression)\u001b[0m\n\u001b[1;32m    276\u001b[0m     ) -> Any:\n\u001b[0;32m--> 277\u001b[0;31m         response, ignored_call = self._with_call(\n\u001b[0m\u001b[1;32m    278\u001b[0m             \u001b[0mrequest\u001b[0m\u001b[0;34m,\u001b[0m\u001b[0;34m\u001b[0m\u001b[0;34m\u001b[0m\u001b[0m\n",
            "\u001b[0;32m/usr/local/lib/python3.10/dist-packages/grpc/_interceptor.py\u001b[0m in \u001b[0;36m_with_call\u001b[0;34m(self, request, timeout, metadata, credentials, wait_for_ready, compression)\u001b[0m\n\u001b[1;32m    331\u001b[0m         )\n\u001b[0;32m--> 332\u001b[0;31m         \u001b[0;32mreturn\u001b[0m \u001b[0mcall\u001b[0m\u001b[0;34m.\u001b[0m\u001b[0mresult\u001b[0m\u001b[0;34m(\u001b[0m\u001b[0;34m)\u001b[0m\u001b[0;34m,\u001b[0m \u001b[0mcall\u001b[0m\u001b[0;34m\u001b[0m\u001b[0;34m\u001b[0m\u001b[0m\n\u001b[0m\u001b[1;32m    333\u001b[0m \u001b[0;34m\u001b[0m\u001b[0m\n",
            "\u001b[0;32m/usr/local/lib/python3.10/dist-packages/grpc/_channel.py\u001b[0m in \u001b[0;36mresult\u001b[0;34m(self, timeout)\u001b[0m\n\u001b[1;32m    439\u001b[0m         \u001b[0;34m\"\"\"See grpc.Future.result.\"\"\"\u001b[0m\u001b[0;34m\u001b[0m\u001b[0;34m\u001b[0m\u001b[0m\n\u001b[0;32m--> 440\u001b[0;31m         \u001b[0;32mraise\u001b[0m \u001b[0mself\u001b[0m\u001b[0;34m\u001b[0m\u001b[0;34m\u001b[0m\u001b[0m\n\u001b[0m\u001b[1;32m    441\u001b[0m \u001b[0;34m\u001b[0m\u001b[0m\n",
            "\u001b[0;32m/usr/local/lib/python3.10/dist-packages/grpc/_interceptor.py\u001b[0m in \u001b[0;36mcontinuation\u001b[0;34m(new_details, request)\u001b[0m\n\u001b[1;32m    314\u001b[0m             \u001b[0;32mtry\u001b[0m\u001b[0;34m:\u001b[0m\u001b[0;34m\u001b[0m\u001b[0;34m\u001b[0m\u001b[0m\n\u001b[0;32m--> 315\u001b[0;31m                 response, call = self._thunk(new_method).with_call(\n\u001b[0m\u001b[1;32m    316\u001b[0m                     \u001b[0mrequest\u001b[0m\u001b[0;34m,\u001b[0m\u001b[0;34m\u001b[0m\u001b[0;34m\u001b[0m\u001b[0m\n",
            "\u001b[0;32m/usr/local/lib/python3.10/dist-packages/grpc/_interceptor.py\u001b[0m in \u001b[0;36mwith_call\u001b[0;34m(self, request, timeout, metadata, credentials, wait_for_ready, compression)\u001b[0m\n\u001b[1;32m    342\u001b[0m     ) -> Tuple[Any, grpc.Call]:\n\u001b[0;32m--> 343\u001b[0;31m         return self._with_call(\n\u001b[0m\u001b[1;32m    344\u001b[0m             \u001b[0mrequest\u001b[0m\u001b[0;34m,\u001b[0m\u001b[0;34m\u001b[0m\u001b[0;34m\u001b[0m\u001b[0m\n",
            "\u001b[0;32m/usr/local/lib/python3.10/dist-packages/grpc/_interceptor.py\u001b[0m in \u001b[0;36m_with_call\u001b[0;34m(self, request, timeout, metadata, credentials, wait_for_ready, compression)\u001b[0m\n\u001b[1;32m    331\u001b[0m         )\n\u001b[0;32m--> 332\u001b[0;31m         \u001b[0;32mreturn\u001b[0m \u001b[0mcall\u001b[0m\u001b[0;34m.\u001b[0m\u001b[0mresult\u001b[0m\u001b[0;34m(\u001b[0m\u001b[0;34m)\u001b[0m\u001b[0;34m,\u001b[0m \u001b[0mcall\u001b[0m\u001b[0;34m\u001b[0m\u001b[0;34m\u001b[0m\u001b[0m\n\u001b[0m\u001b[1;32m    333\u001b[0m \u001b[0;34m\u001b[0m\u001b[0m\n",
            "\u001b[0;32m/usr/local/lib/python3.10/dist-packages/grpc/_channel.py\u001b[0m in \u001b[0;36mresult\u001b[0;34m(self, timeout)\u001b[0m\n\u001b[1;32m    439\u001b[0m         \u001b[0;34m\"\"\"See grpc.Future.result.\"\"\"\u001b[0m\u001b[0;34m\u001b[0m\u001b[0;34m\u001b[0m\u001b[0m\n\u001b[0;32m--> 440\u001b[0;31m         \u001b[0;32mraise\u001b[0m \u001b[0mself\u001b[0m\u001b[0;34m\u001b[0m\u001b[0;34m\u001b[0m\u001b[0m\n\u001b[0m\u001b[1;32m    441\u001b[0m \u001b[0;34m\u001b[0m\u001b[0m\n",
            "\u001b[0;32m/usr/local/lib/python3.10/dist-packages/grpc/_interceptor.py\u001b[0m in \u001b[0;36mcontinuation\u001b[0;34m(new_details, request)\u001b[0m\n\u001b[1;32m    314\u001b[0m             \u001b[0;32mtry\u001b[0m\u001b[0;34m:\u001b[0m\u001b[0;34m\u001b[0m\u001b[0;34m\u001b[0m\u001b[0m\n\u001b[0;32m--> 315\u001b[0;31m                 response, call = self._thunk(new_method).with_call(\n\u001b[0m\u001b[1;32m    316\u001b[0m                     \u001b[0mrequest\u001b[0m\u001b[0;34m,\u001b[0m\u001b[0;34m\u001b[0m\u001b[0;34m\u001b[0m\u001b[0m\n",
            "\u001b[0;32m/usr/local/lib/python3.10/dist-packages/grpc/_channel.py\u001b[0m in \u001b[0;36mwith_call\u001b[0;34m(self, request, timeout, metadata, credentials, wait_for_ready, compression)\u001b[0m\n\u001b[1;32m   1197\u001b[0m         )\n\u001b[0;32m-> 1198\u001b[0;31m         \u001b[0;32mreturn\u001b[0m \u001b[0m_end_unary_response_blocking\u001b[0m\u001b[0;34m(\u001b[0m\u001b[0mstate\u001b[0m\u001b[0;34m,\u001b[0m \u001b[0mcall\u001b[0m\u001b[0;34m,\u001b[0m \u001b[0;32mTrue\u001b[0m\u001b[0;34m,\u001b[0m \u001b[0;32mNone\u001b[0m\u001b[0;34m)\u001b[0m\u001b[0;34m\u001b[0m\u001b[0;34m\u001b[0m\u001b[0m\n\u001b[0m\u001b[1;32m   1199\u001b[0m \u001b[0;34m\u001b[0m\u001b[0m\n",
            "\u001b[0;32m/usr/local/lib/python3.10/dist-packages/grpc/_channel.py\u001b[0m in \u001b[0;36m_end_unary_response_blocking\u001b[0;34m(state, call, with_call, deadline)\u001b[0m\n\u001b[1;32m   1005\u001b[0m     \u001b[0;32melse\u001b[0m\u001b[0;34m:\u001b[0m\u001b[0;34m\u001b[0m\u001b[0;34m\u001b[0m\u001b[0m\n\u001b[0;32m-> 1006\u001b[0;31m         \u001b[0;32mraise\u001b[0m \u001b[0m_InactiveRpcError\u001b[0m\u001b[0;34m(\u001b[0m\u001b[0mstate\u001b[0m\u001b[0;34m)\u001b[0m  \u001b[0;31m# pytype: disable=not-instantiable\u001b[0m\u001b[0;34m\u001b[0m\u001b[0;34m\u001b[0m\u001b[0m\n\u001b[0m\u001b[1;32m   1007\u001b[0m \u001b[0;34m\u001b[0m\u001b[0m\n",
            "\u001b[0;31m_InactiveRpcError\u001b[0m: <_InactiveRpcError of RPC that terminated with:\n\tstatus = StatusCode.UNKNOWN\n\tdetails = \"Invalid token: Your token is not valid. Please double-check your request parameters and ensure that you have provided a valid token.\"\n\tdebug_error_string = \"UNKNOWN:Error received from peer  {created_time:\"2024-08-10T13:58:06.256724424+00:00\", grpc_status:2, grpc_message:\"Invalid token: Your token is not valid. Please double-check your request parameters and ensure that you have provided a valid token.\"}\"\n>",
            "\nThe above exception was the direct cause of the following exception:\n",
            "\u001b[0;31m_InactiveRpcError\u001b[0m                         Traceback (most recent call last)",
            "\u001b[0;32m/usr/local/lib/python3.10/dist-packages/pymilvus/decorators.py\u001b[0m in \u001b[0;36mhandler\u001b[0;34m(*args, **kwargs)\u001b[0m\n\u001b[1;32m     86\u001b[0m                 \u001b[0;32mtry\u001b[0m\u001b[0;34m:\u001b[0m\u001b[0;34m\u001b[0m\u001b[0;34m\u001b[0m\u001b[0m\n\u001b[0;32m---> 87\u001b[0;31m                     \u001b[0;32mreturn\u001b[0m \u001b[0mfunc\u001b[0m\u001b[0;34m(\u001b[0m\u001b[0;34m*\u001b[0m\u001b[0margs\u001b[0m\u001b[0;34m,\u001b[0m \u001b[0;34m**\u001b[0m\u001b[0mkwargs\u001b[0m\u001b[0;34m)\u001b[0m\u001b[0;34m\u001b[0m\u001b[0;34m\u001b[0m\u001b[0m\n\u001b[0m\u001b[1;32m     88\u001b[0m                 \u001b[0;32mexcept\u001b[0m \u001b[0mgrpc\u001b[0m\u001b[0;34m.\u001b[0m\u001b[0mRpcError\u001b[0m \u001b[0;32mas\u001b[0m \u001b[0me\u001b[0m\u001b[0;34m:\u001b[0m\u001b[0;34m\u001b[0m\u001b[0;34m\u001b[0m\u001b[0m\n",
            "\u001b[0;32m/usr/local/lib/python3.10/dist-packages/pymilvus/decorators.py\u001b[0m in \u001b[0;36mhandler\u001b[0;34m(*args, **kwargs)\u001b[0m\n\u001b[1;32m    220\u001b[0m                 \u001b[0;32mraise\u001b[0m \u001b[0mMilvusException\u001b[0m\u001b[0;34m(\u001b[0m\u001b[0mmessage\u001b[0m\u001b[0;34m=\u001b[0m\u001b[0mmsg\u001b[0m\u001b[0;34m)\u001b[0m \u001b[0;32mfrom\u001b[0m \u001b[0me\u001b[0m\u001b[0;34m\u001b[0m\u001b[0;34m\u001b[0m\u001b[0m\n\u001b[0;32m--> 221\u001b[0;31m             \u001b[0;32mraise\u001b[0m \u001b[0me\u001b[0m \u001b[0;32mfrom\u001b[0m \u001b[0me\u001b[0m\u001b[0;34m\u001b[0m\u001b[0;34m\u001b[0m\u001b[0m\n\u001b[0m\u001b[1;32m    222\u001b[0m         \u001b[0;32mexcept\u001b[0m \u001b[0mException\u001b[0m \u001b[0;32mas\u001b[0m \u001b[0me\u001b[0m\u001b[0;34m:\u001b[0m\u001b[0;34m\u001b[0m\u001b[0;34m\u001b[0m\u001b[0m\n",
            "\u001b[0;32m/usr/local/lib/python3.10/dist-packages/pymilvus/decorators.py\u001b[0m in \u001b[0;36mhandler\u001b[0;34m(*args, **kwargs)\u001b[0m\n\u001b[1;32m    212\u001b[0m         \u001b[0;32mtry\u001b[0m\u001b[0;34m:\u001b[0m\u001b[0;34m\u001b[0m\u001b[0;34m\u001b[0m\u001b[0m\n\u001b[0;32m--> 213\u001b[0;31m             \u001b[0;32mreturn\u001b[0m \u001b[0mfunc\u001b[0m\u001b[0;34m(\u001b[0m\u001b[0;34m*\u001b[0m\u001b[0margs\u001b[0m\u001b[0;34m,\u001b[0m \u001b[0;34m**\u001b[0m\u001b[0mkwargs\u001b[0m\u001b[0;34m)\u001b[0m\u001b[0;34m\u001b[0m\u001b[0;34m\u001b[0m\u001b[0m\n\u001b[0m\u001b[1;32m    214\u001b[0m         \u001b[0;32mexcept\u001b[0m \u001b[0mgrpc\u001b[0m\u001b[0;34m.\u001b[0m\u001b[0mRpcError\u001b[0m \u001b[0;32mas\u001b[0m \u001b[0me\u001b[0m\u001b[0;34m:\u001b[0m\u001b[0;34m\u001b[0m\u001b[0;34m\u001b[0m\u001b[0m\n",
            "\u001b[0;32m/usr/local/lib/python3.10/dist-packages/pymilvus/client/grpc_handler.py\u001b[0m in \u001b[0;36m__internal_register\u001b[0;34m(self, user, host, **kwargs)\u001b[0m\n\u001b[1;32m   1975\u001b[0m         \u001b[0mreq\u001b[0m \u001b[0;34m=\u001b[0m \u001b[0mPrepare\u001b[0m\u001b[0;34m.\u001b[0m\u001b[0mregister_request\u001b[0m\u001b[0;34m(\u001b[0m\u001b[0muser\u001b[0m\u001b[0;34m,\u001b[0m \u001b[0mhost\u001b[0m\u001b[0;34m)\u001b[0m\u001b[0;34m\u001b[0m\u001b[0;34m\u001b[0m\u001b[0m\n\u001b[0;32m-> 1976\u001b[0;31m         \u001b[0mresponse\u001b[0m \u001b[0;34m=\u001b[0m \u001b[0mself\u001b[0m\u001b[0;34m.\u001b[0m\u001b[0m_stub\u001b[0m\u001b[0;34m.\u001b[0m\u001b[0mConnect\u001b[0m\u001b[0;34m(\u001b[0m\u001b[0mrequest\u001b[0m\u001b[0;34m=\u001b[0m\u001b[0mreq\u001b[0m\u001b[0;34m)\u001b[0m\u001b[0;34m\u001b[0m\u001b[0;34m\u001b[0m\u001b[0m\n\u001b[0m\u001b[1;32m   1977\u001b[0m         \u001b[0mcheck_status\u001b[0m\u001b[0;34m(\u001b[0m\u001b[0mresponse\u001b[0m\u001b[0;34m.\u001b[0m\u001b[0mstatus\u001b[0m\u001b[0;34m)\u001b[0m\u001b[0;34m\u001b[0m\u001b[0;34m\u001b[0m\u001b[0m\n",
            "\u001b[0;32m/usr/local/lib/python3.10/dist-packages/grpc/_interceptor.py\u001b[0m in \u001b[0;36m__call__\u001b[0;34m(self, request, timeout, metadata, credentials, wait_for_ready, compression)\u001b[0m\n\u001b[1;32m    276\u001b[0m     ) -> Any:\n\u001b[0;32m--> 277\u001b[0;31m         response, ignored_call = self._with_call(\n\u001b[0m\u001b[1;32m    278\u001b[0m             \u001b[0mrequest\u001b[0m\u001b[0;34m,\u001b[0m\u001b[0;34m\u001b[0m\u001b[0;34m\u001b[0m\u001b[0m\n",
            "\u001b[0;32m/usr/local/lib/python3.10/dist-packages/grpc/_interceptor.py\u001b[0m in \u001b[0;36m_with_call\u001b[0;34m(self, request, timeout, metadata, credentials, wait_for_ready, compression)\u001b[0m\n\u001b[1;32m    331\u001b[0m         )\n\u001b[0;32m--> 332\u001b[0;31m         \u001b[0;32mreturn\u001b[0m \u001b[0mcall\u001b[0m\u001b[0;34m.\u001b[0m\u001b[0mresult\u001b[0m\u001b[0;34m(\u001b[0m\u001b[0;34m)\u001b[0m\u001b[0;34m,\u001b[0m \u001b[0mcall\u001b[0m\u001b[0;34m\u001b[0m\u001b[0;34m\u001b[0m\u001b[0m\n\u001b[0m\u001b[1;32m    333\u001b[0m \u001b[0;34m\u001b[0m\u001b[0m\n",
            "\u001b[0;32m/usr/local/lib/python3.10/dist-packages/grpc/_channel.py\u001b[0m in \u001b[0;36mresult\u001b[0;34m(self, timeout)\u001b[0m\n\u001b[1;32m    439\u001b[0m         \u001b[0;34m\"\"\"See grpc.Future.result.\"\"\"\u001b[0m\u001b[0;34m\u001b[0m\u001b[0;34m\u001b[0m\u001b[0m\n\u001b[0;32m--> 440\u001b[0;31m         \u001b[0;32mraise\u001b[0m \u001b[0mself\u001b[0m\u001b[0;34m\u001b[0m\u001b[0;34m\u001b[0m\u001b[0m\n\u001b[0m\u001b[1;32m    441\u001b[0m \u001b[0;34m\u001b[0m\u001b[0m\n",
            "\u001b[0;32m/usr/local/lib/python3.10/dist-packages/grpc/_interceptor.py\u001b[0m in \u001b[0;36mcontinuation\u001b[0;34m(new_details, request)\u001b[0m\n\u001b[1;32m    314\u001b[0m             \u001b[0;32mtry\u001b[0m\u001b[0;34m:\u001b[0m\u001b[0;34m\u001b[0m\u001b[0;34m\u001b[0m\u001b[0m\n\u001b[0;32m--> 315\u001b[0;31m                 response, call = self._thunk(new_method).with_call(\n\u001b[0m\u001b[1;32m    316\u001b[0m                     \u001b[0mrequest\u001b[0m\u001b[0;34m,\u001b[0m\u001b[0;34m\u001b[0m\u001b[0;34m\u001b[0m\u001b[0m\n",
            "\u001b[0;32m/usr/local/lib/python3.10/dist-packages/grpc/_interceptor.py\u001b[0m in \u001b[0;36mwith_call\u001b[0;34m(self, request, timeout, metadata, credentials, wait_for_ready, compression)\u001b[0m\n\u001b[1;32m    342\u001b[0m     ) -> Tuple[Any, grpc.Call]:\n\u001b[0;32m--> 343\u001b[0;31m         return self._with_call(\n\u001b[0m\u001b[1;32m    344\u001b[0m             \u001b[0mrequest\u001b[0m\u001b[0;34m,\u001b[0m\u001b[0;34m\u001b[0m\u001b[0;34m\u001b[0m\u001b[0m\n",
            "\u001b[0;32m/usr/local/lib/python3.10/dist-packages/grpc/_interceptor.py\u001b[0m in \u001b[0;36m_with_call\u001b[0;34m(self, request, timeout, metadata, credentials, wait_for_ready, compression)\u001b[0m\n\u001b[1;32m    331\u001b[0m         )\n\u001b[0;32m--> 332\u001b[0;31m         \u001b[0;32mreturn\u001b[0m \u001b[0mcall\u001b[0m\u001b[0;34m.\u001b[0m\u001b[0mresult\u001b[0m\u001b[0;34m(\u001b[0m\u001b[0;34m)\u001b[0m\u001b[0;34m,\u001b[0m \u001b[0mcall\u001b[0m\u001b[0;34m\u001b[0m\u001b[0;34m\u001b[0m\u001b[0m\n\u001b[0m\u001b[1;32m    333\u001b[0m \u001b[0;34m\u001b[0m\u001b[0m\n",
            "\u001b[0;32m/usr/local/lib/python3.10/dist-packages/grpc/_channel.py\u001b[0m in \u001b[0;36mresult\u001b[0;34m(self, timeout)\u001b[0m\n\u001b[1;32m    439\u001b[0m         \u001b[0;34m\"\"\"See grpc.Future.result.\"\"\"\u001b[0m\u001b[0;34m\u001b[0m\u001b[0;34m\u001b[0m\u001b[0m\n\u001b[0;32m--> 440\u001b[0;31m         \u001b[0;32mraise\u001b[0m \u001b[0mself\u001b[0m\u001b[0;34m\u001b[0m\u001b[0;34m\u001b[0m\u001b[0m\n\u001b[0m\u001b[1;32m    441\u001b[0m \u001b[0;34m\u001b[0m\u001b[0m\n",
            "\u001b[0;32m/usr/local/lib/python3.10/dist-packages/grpc/_interceptor.py\u001b[0m in \u001b[0;36mcontinuation\u001b[0;34m(new_details, request)\u001b[0m\n\u001b[1;32m    314\u001b[0m             \u001b[0;32mtry\u001b[0m\u001b[0;34m:\u001b[0m\u001b[0;34m\u001b[0m\u001b[0;34m\u001b[0m\u001b[0m\n\u001b[0;32m--> 315\u001b[0;31m                 response, call = self._thunk(new_method).with_call(\n\u001b[0m\u001b[1;32m    316\u001b[0m                     \u001b[0mrequest\u001b[0m\u001b[0;34m,\u001b[0m\u001b[0;34m\u001b[0m\u001b[0;34m\u001b[0m\u001b[0m\n",
            "\u001b[0;32m/usr/local/lib/python3.10/dist-packages/grpc/_channel.py\u001b[0m in \u001b[0;36mwith_call\u001b[0;34m(self, request, timeout, metadata, credentials, wait_for_ready, compression)\u001b[0m\n\u001b[1;32m   1197\u001b[0m         )\n\u001b[0;32m-> 1198\u001b[0;31m         \u001b[0;32mreturn\u001b[0m \u001b[0m_end_unary_response_blocking\u001b[0m\u001b[0;34m(\u001b[0m\u001b[0mstate\u001b[0m\u001b[0;34m,\u001b[0m \u001b[0mcall\u001b[0m\u001b[0;34m,\u001b[0m \u001b[0;32mTrue\u001b[0m\u001b[0;34m,\u001b[0m \u001b[0;32mNone\u001b[0m\u001b[0;34m)\u001b[0m\u001b[0;34m\u001b[0m\u001b[0;34m\u001b[0m\u001b[0m\n\u001b[0m\u001b[1;32m   1199\u001b[0m \u001b[0;34m\u001b[0m\u001b[0m\n",
            "\u001b[0;32m/usr/local/lib/python3.10/dist-packages/grpc/_channel.py\u001b[0m in \u001b[0;36m_end_unary_response_blocking\u001b[0;34m(state, call, with_call, deadline)\u001b[0m\n\u001b[1;32m   1005\u001b[0m     \u001b[0;32melse\u001b[0m\u001b[0;34m:\u001b[0m\u001b[0;34m\u001b[0m\u001b[0;34m\u001b[0m\u001b[0m\n\u001b[0;32m-> 1006\u001b[0;31m         \u001b[0;32mraise\u001b[0m \u001b[0m_InactiveRpcError\u001b[0m\u001b[0;34m(\u001b[0m\u001b[0mstate\u001b[0m\u001b[0;34m)\u001b[0m  \u001b[0;31m# pytype: disable=not-instantiable\u001b[0m\u001b[0;34m\u001b[0m\u001b[0;34m\u001b[0m\u001b[0m\n\u001b[0m\u001b[1;32m   1007\u001b[0m \u001b[0;34m\u001b[0m\u001b[0m\n",
            "\u001b[0;31m_InactiveRpcError\u001b[0m: <_InactiveRpcError of RPC that terminated with:\n\tstatus = StatusCode.UNKNOWN\n\tdetails = \"Invalid token: Your token is not valid. Please double-check your request parameters and ensure that you have provided a valid token.\"\n\tdebug_error_string = \"UNKNOWN:Error received from peer  {created_time:\"2024-08-10T13:58:06.256724424+00:00\", grpc_status:2, grpc_message:\"Invalid token: Your token is not valid. Please double-check your request parameters and ensure that you have provided a valid token.\"}\"\n>",
            "\nDuring handling of the above exception, another exception occurred:\n",
            "\u001b[0;31mKeyboardInterrupt\u001b[0m                         Traceback (most recent call last)",
            "\u001b[0;32m<ipython-input-9-783b6bbb8110>\u001b[0m in \u001b[0;36m<cell line: 1>\u001b[0;34m()\u001b[0m\n\u001b[0;32m----> 1\u001b[0;31m result = crew.kickoff(inputs={'topic': 'Môn vật lý lớp 10',\n\u001b[0m\u001b[1;32m      2\u001b[0m                               \u001b[0;34m'range'\u001b[0m\u001b[0;34m:\u001b[0m \u001b[0;34m'6 tuần'\u001b[0m\u001b[0;34m,\u001b[0m\u001b[0;34m\u001b[0m\u001b[0;34m\u001b[0m\u001b[0m\n\u001b[1;32m      3\u001b[0m                               \u001b[0;34m'sub_topics'\u001b[0m\u001b[0;34m:\u001b[0m \u001b[0;34m'động học, độ dịch chuyển'\u001b[0m\u001b[0;34m,\u001b[0m\u001b[0;34m\u001b[0m\u001b[0;34m\u001b[0m\u001b[0m\n\u001b[1;32m      4\u001b[0m                               })\n\u001b[1;32m      5\u001b[0m \u001b[0mprint\u001b[0m\u001b[0;34m(\u001b[0m\u001b[0mresult\u001b[0m\u001b[0;34m)\u001b[0m\u001b[0;34m\u001b[0m\u001b[0;34m\u001b[0m\u001b[0m\n",
            "\u001b[0;32m/usr/local/lib/python3.10/dist-packages/crewai/crew.py\u001b[0m in \u001b[0;36mkickoff\u001b[0;34m(self, inputs)\u001b[0m\n\u001b[1;32m    466\u001b[0m \u001b[0;34m\u001b[0m\u001b[0m\n\u001b[1;32m    467\u001b[0m         \u001b[0;32mif\u001b[0m \u001b[0mself\u001b[0m\u001b[0;34m.\u001b[0m\u001b[0mprocess\u001b[0m \u001b[0;34m==\u001b[0m \u001b[0mProcess\u001b[0m\u001b[0;34m.\u001b[0m\u001b[0msequential\u001b[0m\u001b[0;34m:\u001b[0m\u001b[0;34m\u001b[0m\u001b[0;34m\u001b[0m\u001b[0m\n\u001b[0;32m--> 468\u001b[0;31m             \u001b[0mresult\u001b[0m \u001b[0;34m=\u001b[0m \u001b[0mself\u001b[0m\u001b[0;34m.\u001b[0m\u001b[0m_run_sequential_process\u001b[0m\u001b[0;34m(\u001b[0m\u001b[0;34m)\u001b[0m\u001b[0;34m\u001b[0m\u001b[0;34m\u001b[0m\u001b[0m\n\u001b[0m\u001b[1;32m    469\u001b[0m         \u001b[0;32melif\u001b[0m \u001b[0mself\u001b[0m\u001b[0;34m.\u001b[0m\u001b[0mprocess\u001b[0m \u001b[0;34m==\u001b[0m \u001b[0mProcess\u001b[0m\u001b[0;34m.\u001b[0m\u001b[0mhierarchical\u001b[0m\u001b[0;34m:\u001b[0m\u001b[0;34m\u001b[0m\u001b[0;34m\u001b[0m\u001b[0m\n\u001b[1;32m    470\u001b[0m             \u001b[0mresult\u001b[0m \u001b[0;34m=\u001b[0m \u001b[0mself\u001b[0m\u001b[0;34m.\u001b[0m\u001b[0m_run_hierarchical_process\u001b[0m\u001b[0;34m(\u001b[0m\u001b[0;34m)\u001b[0m\u001b[0;34m\u001b[0m\u001b[0;34m\u001b[0m\u001b[0m\n",
            "\u001b[0;32m/usr/local/lib/python3.10/dist-packages/crewai/crew.py\u001b[0m in \u001b[0;36m_run_sequential_process\u001b[0;34m(self)\u001b[0m\n\u001b[1;32m    601\u001b[0m     \u001b[0;32mdef\u001b[0m \u001b[0m_run_sequential_process\u001b[0m\u001b[0;34m(\u001b[0m\u001b[0mself\u001b[0m\u001b[0;34m)\u001b[0m \u001b[0;34m->\u001b[0m \u001b[0mCrewOutput\u001b[0m\u001b[0;34m:\u001b[0m\u001b[0;34m\u001b[0m\u001b[0;34m\u001b[0m\u001b[0m\n\u001b[1;32m    602\u001b[0m         \u001b[0;34m\"\"\"Executes tasks sequentially and returns the final output.\"\"\"\u001b[0m\u001b[0;34m\u001b[0m\u001b[0;34m\u001b[0m\u001b[0m\n\u001b[0;32m--> 603\u001b[0;31m         \u001b[0;32mreturn\u001b[0m \u001b[0mself\u001b[0m\u001b[0;34m.\u001b[0m\u001b[0m_execute_tasks\u001b[0m\u001b[0;34m(\u001b[0m\u001b[0mself\u001b[0m\u001b[0;34m.\u001b[0m\u001b[0mtasks\u001b[0m\u001b[0;34m)\u001b[0m\u001b[0;34m\u001b[0m\u001b[0;34m\u001b[0m\u001b[0m\n\u001b[0m\u001b[1;32m    604\u001b[0m \u001b[0;34m\u001b[0m\u001b[0m\n\u001b[1;32m    605\u001b[0m     \u001b[0;32mdef\u001b[0m \u001b[0m_run_hierarchical_process\u001b[0m\u001b[0;34m(\u001b[0m\u001b[0mself\u001b[0m\u001b[0;34m)\u001b[0m \u001b[0;34m->\u001b[0m \u001b[0mCrewOutput\u001b[0m\u001b[0;34m:\u001b[0m\u001b[0;34m\u001b[0m\u001b[0;34m\u001b[0m\u001b[0m\n",
            "\u001b[0;32m/usr/local/lib/python3.10/dist-packages/crewai/crew.py\u001b[0m in \u001b[0;36m_execute_tasks\u001b[0;34m(self, tasks, manager, start_index, was_replayed)\u001b[0m\n\u001b[1;32m    690\u001b[0m \u001b[0;34m\u001b[0m\u001b[0m\n\u001b[1;32m    691\u001b[0m                 \u001b[0mcontext\u001b[0m \u001b[0;34m=\u001b[0m \u001b[0mself\u001b[0m\u001b[0;34m.\u001b[0m\u001b[0m_get_context\u001b[0m\u001b[0;34m(\u001b[0m\u001b[0mtask\u001b[0m\u001b[0;34m,\u001b[0m \u001b[0mtask_outputs\u001b[0m\u001b[0;34m)\u001b[0m\u001b[0;34m\u001b[0m\u001b[0;34m\u001b[0m\u001b[0m\n\u001b[0;32m--> 692\u001b[0;31m                 task_output = task.execute_sync(\n\u001b[0m\u001b[1;32m    693\u001b[0m                     \u001b[0magent\u001b[0m\u001b[0;34m=\u001b[0m\u001b[0magent_to_use\u001b[0m\u001b[0;34m,\u001b[0m\u001b[0;34m\u001b[0m\u001b[0;34m\u001b[0m\u001b[0m\n\u001b[1;32m    694\u001b[0m                     \u001b[0mcontext\u001b[0m\u001b[0;34m=\u001b[0m\u001b[0mcontext\u001b[0m\u001b[0;34m,\u001b[0m\u001b[0;34m\u001b[0m\u001b[0;34m\u001b[0m\u001b[0m\n",
            "\u001b[0;32m/usr/local/lib/python3.10/dist-packages/crewai/task.py\u001b[0m in \u001b[0;36mexecute_sync\u001b[0;34m(self, agent, context, tools)\u001b[0m\n\u001b[1;32m    173\u001b[0m     ) -> TaskOutput:\n\u001b[1;32m    174\u001b[0m         \u001b[0;34m\"\"\"Execute the task synchronously.\"\"\"\u001b[0m\u001b[0;34m\u001b[0m\u001b[0;34m\u001b[0m\u001b[0m\n\u001b[0;32m--> 175\u001b[0;31m         \u001b[0;32mreturn\u001b[0m \u001b[0mself\u001b[0m\u001b[0;34m.\u001b[0m\u001b[0m_execute_core\u001b[0m\u001b[0;34m(\u001b[0m\u001b[0magent\u001b[0m\u001b[0;34m,\u001b[0m \u001b[0mcontext\u001b[0m\u001b[0;34m,\u001b[0m \u001b[0mtools\u001b[0m\u001b[0;34m)\u001b[0m\u001b[0;34m\u001b[0m\u001b[0;34m\u001b[0m\u001b[0m\n\u001b[0m\u001b[1;32m    176\u001b[0m \u001b[0;34m\u001b[0m\u001b[0m\n\u001b[1;32m    177\u001b[0m     \u001b[0;34m@\u001b[0m\u001b[0mproperty\u001b[0m\u001b[0;34m\u001b[0m\u001b[0;34m\u001b[0m\u001b[0m\n",
            "\u001b[0;32m/usr/local/lib/python3.10/dist-packages/crewai/task.py\u001b[0m in \u001b[0;36m_execute_core\u001b[0;34m(self, agent, context, tools)\u001b[0m\n\u001b[1;32m    226\u001b[0m         \u001b[0mtools\u001b[0m \u001b[0;34m=\u001b[0m \u001b[0mtools\u001b[0m \u001b[0;32mor\u001b[0m \u001b[0mself\u001b[0m\u001b[0;34m.\u001b[0m\u001b[0mtools\u001b[0m \u001b[0;32mor\u001b[0m \u001b[0;34m[\u001b[0m\u001b[0;34m]\u001b[0m\u001b[0;34m\u001b[0m\u001b[0;34m\u001b[0m\u001b[0m\n\u001b[1;32m    227\u001b[0m \u001b[0;34m\u001b[0m\u001b[0m\n\u001b[0;32m--> 228\u001b[0;31m         result = agent.execute_task(\n\u001b[0m\u001b[1;32m    229\u001b[0m             \u001b[0mtask\u001b[0m\u001b[0;34m=\u001b[0m\u001b[0mself\u001b[0m\u001b[0;34m,\u001b[0m\u001b[0;34m\u001b[0m\u001b[0;34m\u001b[0m\u001b[0m\n\u001b[1;32m    230\u001b[0m             \u001b[0mcontext\u001b[0m\u001b[0;34m=\u001b[0m\u001b[0mcontext\u001b[0m\u001b[0;34m,\u001b[0m\u001b[0;34m\u001b[0m\u001b[0;34m\u001b[0m\u001b[0m\n",
            "\u001b[0;32m/usr/local/lib/python3.10/dist-packages/crewai/agent.py\u001b[0m in \u001b[0;36mexecute_task\u001b[0;34m(self, task, context, tools)\u001b[0m\n\u001b[1;32m    193\u001b[0m \u001b[0;34m\u001b[0m\u001b[0m\n\u001b[1;32m    194\u001b[0m         \u001b[0;32mtry\u001b[0m\u001b[0;34m:\u001b[0m\u001b[0;34m\u001b[0m\u001b[0;34m\u001b[0m\u001b[0m\n\u001b[0;32m--> 195\u001b[0;31m             result = self.agent_executor.invoke(\n\u001b[0m\u001b[1;32m    196\u001b[0m                 {\n\u001b[1;32m    197\u001b[0m                     \u001b[0;34m\"input\"\u001b[0m\u001b[0;34m:\u001b[0m \u001b[0mtask_prompt\u001b[0m\u001b[0;34m,\u001b[0m\u001b[0;34m\u001b[0m\u001b[0;34m\u001b[0m\u001b[0m\n",
            "\u001b[0;32m/usr/local/lib/python3.10/dist-packages/langchain/chains/base.py\u001b[0m in \u001b[0;36minvoke\u001b[0;34m(self, input, config, **kwargs)\u001b[0m\n\u001b[1;32m    164\u001b[0m         \u001b[0;32mexcept\u001b[0m \u001b[0mBaseException\u001b[0m \u001b[0;32mas\u001b[0m \u001b[0me\u001b[0m\u001b[0;34m:\u001b[0m\u001b[0;34m\u001b[0m\u001b[0;34m\u001b[0m\u001b[0m\n\u001b[1;32m    165\u001b[0m             \u001b[0mrun_manager\u001b[0m\u001b[0;34m.\u001b[0m\u001b[0mon_chain_error\u001b[0m\u001b[0;34m(\u001b[0m\u001b[0me\u001b[0m\u001b[0;34m)\u001b[0m\u001b[0;34m\u001b[0m\u001b[0;34m\u001b[0m\u001b[0m\n\u001b[0;32m--> 166\u001b[0;31m             \u001b[0;32mraise\u001b[0m \u001b[0me\u001b[0m\u001b[0;34m\u001b[0m\u001b[0;34m\u001b[0m\u001b[0m\n\u001b[0m\u001b[1;32m    167\u001b[0m         \u001b[0mrun_manager\u001b[0m\u001b[0;34m.\u001b[0m\u001b[0mon_chain_end\u001b[0m\u001b[0;34m(\u001b[0m\u001b[0moutputs\u001b[0m\u001b[0;34m)\u001b[0m\u001b[0;34m\u001b[0m\u001b[0;34m\u001b[0m\u001b[0m\n\u001b[1;32m    168\u001b[0m \u001b[0;34m\u001b[0m\u001b[0m\n",
            "\u001b[0;32m/usr/local/lib/python3.10/dist-packages/langchain/chains/base.py\u001b[0m in \u001b[0;36minvoke\u001b[0;34m(self, input, config, **kwargs)\u001b[0m\n\u001b[1;32m    154\u001b[0m             \u001b[0mself\u001b[0m\u001b[0;34m.\u001b[0m\u001b[0m_validate_inputs\u001b[0m\u001b[0;34m(\u001b[0m\u001b[0minputs\u001b[0m\u001b[0;34m)\u001b[0m\u001b[0;34m\u001b[0m\u001b[0;34m\u001b[0m\u001b[0m\n\u001b[1;32m    155\u001b[0m             outputs = (\n\u001b[0;32m--> 156\u001b[0;31m                 \u001b[0mself\u001b[0m\u001b[0;34m.\u001b[0m\u001b[0m_call\u001b[0m\u001b[0;34m(\u001b[0m\u001b[0minputs\u001b[0m\u001b[0;34m,\u001b[0m \u001b[0mrun_manager\u001b[0m\u001b[0;34m=\u001b[0m\u001b[0mrun_manager\u001b[0m\u001b[0;34m)\u001b[0m\u001b[0;34m\u001b[0m\u001b[0;34m\u001b[0m\u001b[0m\n\u001b[0m\u001b[1;32m    157\u001b[0m                 \u001b[0;32mif\u001b[0m \u001b[0mnew_arg_supported\u001b[0m\u001b[0;34m\u001b[0m\u001b[0;34m\u001b[0m\u001b[0m\n\u001b[1;32m    158\u001b[0m                 \u001b[0;32melse\u001b[0m \u001b[0mself\u001b[0m\u001b[0;34m.\u001b[0m\u001b[0m_call\u001b[0m\u001b[0;34m(\u001b[0m\u001b[0minputs\u001b[0m\u001b[0;34m)\u001b[0m\u001b[0;34m\u001b[0m\u001b[0;34m\u001b[0m\u001b[0m\n",
            "\u001b[0;32m/usr/local/lib/python3.10/dist-packages/crewai/agents/executor.py\u001b[0m in \u001b[0;36m_call\u001b[0;34m(self, inputs, run_manager)\u001b[0m\n\u001b[1;32m     68\u001b[0m         \u001b[0;32mwhile\u001b[0m \u001b[0mself\u001b[0m\u001b[0;34m.\u001b[0m\u001b[0m_should_continue\u001b[0m\u001b[0;34m(\u001b[0m\u001b[0mself\u001b[0m\u001b[0;34m.\u001b[0m\u001b[0miterations\u001b[0m\u001b[0;34m,\u001b[0m \u001b[0mtime_elapsed\u001b[0m\u001b[0;34m)\u001b[0m\u001b[0;34m:\u001b[0m\u001b[0;34m\u001b[0m\u001b[0;34m\u001b[0m\u001b[0m\n\u001b[1;32m     69\u001b[0m             \u001b[0;32mif\u001b[0m \u001b[0;32mnot\u001b[0m \u001b[0mself\u001b[0m\u001b[0;34m.\u001b[0m\u001b[0mrequest_within_rpm_limit\u001b[0m \u001b[0;32mor\u001b[0m \u001b[0mself\u001b[0m\u001b[0;34m.\u001b[0m\u001b[0mrequest_within_rpm_limit\u001b[0m\u001b[0;34m(\u001b[0m\u001b[0;34m)\u001b[0m\u001b[0;34m:\u001b[0m\u001b[0;34m\u001b[0m\u001b[0;34m\u001b[0m\u001b[0m\n\u001b[0;32m---> 70\u001b[0;31m                 next_step_output = self._take_next_step(\n\u001b[0m\u001b[1;32m     71\u001b[0m                     \u001b[0mname_to_tool_map\u001b[0m\u001b[0;34m,\u001b[0m\u001b[0;34m\u001b[0m\u001b[0;34m\u001b[0m\u001b[0m\n\u001b[1;32m     72\u001b[0m                     \u001b[0mcolor_mapping\u001b[0m\u001b[0;34m,\u001b[0m\u001b[0;34m\u001b[0m\u001b[0;34m\u001b[0m\u001b[0m\n",
            "\u001b[0;32m/usr/local/lib/python3.10/dist-packages/langchain/agents/agent.py\u001b[0m in \u001b[0;36m_take_next_step\u001b[0;34m(self, name_to_tool_map, color_mapping, inputs, intermediate_steps, run_manager)\u001b[0m\n\u001b[1;32m   1316\u001b[0m     ) -> Union[AgentFinish, List[Tuple[AgentAction, str]]]:\n\u001b[1;32m   1317\u001b[0m         return self._consume_next_step(\n\u001b[0;32m-> 1318\u001b[0;31m             [\n\u001b[0m\u001b[1;32m   1319\u001b[0m                 \u001b[0ma\u001b[0m\u001b[0;34m\u001b[0m\u001b[0;34m\u001b[0m\u001b[0m\n\u001b[1;32m   1320\u001b[0m                 for a in self._iter_next_step(\n",
            "\u001b[0;32m/usr/local/lib/python3.10/dist-packages/langchain/agents/agent.py\u001b[0m in \u001b[0;36m<listcomp>\u001b[0;34m(.0)\u001b[0m\n\u001b[1;32m   1316\u001b[0m     ) -> Union[AgentFinish, List[Tuple[AgentAction, str]]]:\n\u001b[1;32m   1317\u001b[0m         return self._consume_next_step(\n\u001b[0;32m-> 1318\u001b[0;31m             [\n\u001b[0m\u001b[1;32m   1319\u001b[0m                 \u001b[0ma\u001b[0m\u001b[0;34m\u001b[0m\u001b[0;34m\u001b[0m\u001b[0m\n\u001b[1;32m   1320\u001b[0m                 for a in self._iter_next_step(\n",
            "\u001b[0;32m/usr/local/lib/python3.10/dist-packages/crewai/agents/executor.py\u001b[0m in \u001b[0;36m_iter_next_step\u001b[0;34m(self, name_to_tool_map, color_mapping, inputs, intermediate_steps, run_manager)\u001b[0m\n\u001b[1;32m    246\u001b[0m                     \u001b[0mname\u001b[0m\u001b[0;34m.\u001b[0m\u001b[0mcasefold\u001b[0m\u001b[0;34m(\u001b[0m\u001b[0;34m)\u001b[0m\u001b[0;34m.\u001b[0m\u001b[0mstrip\u001b[0m\u001b[0;34m(\u001b[0m\u001b[0;34m)\u001b[0m \u001b[0;32mfor\u001b[0m \u001b[0mname\u001b[0m \u001b[0;32min\u001b[0m \u001b[0mname_to_tool_map\u001b[0m\u001b[0;34m\u001b[0m\u001b[0;34m\u001b[0m\u001b[0m\n\u001b[1;32m    247\u001b[0m                 ]:\n\u001b[0;32m--> 248\u001b[0;31m                     \u001b[0mobservation\u001b[0m \u001b[0;34m=\u001b[0m \u001b[0mtool_usage\u001b[0m\u001b[0;34m.\u001b[0m\u001b[0muse\u001b[0m\u001b[0;34m(\u001b[0m\u001b[0mtool_calling\u001b[0m\u001b[0;34m,\u001b[0m \u001b[0magent_action\u001b[0m\u001b[0;34m.\u001b[0m\u001b[0mlog\u001b[0m\u001b[0;34m)\u001b[0m\u001b[0;34m\u001b[0m\u001b[0;34m\u001b[0m\u001b[0m\n\u001b[0m\u001b[1;32m    249\u001b[0m                 \u001b[0;32melse\u001b[0m\u001b[0;34m:\u001b[0m\u001b[0;34m\u001b[0m\u001b[0;34m\u001b[0m\u001b[0m\n\u001b[1;32m    250\u001b[0m                     observation = self._i18n.errors(\"wrong_tool_name\").format(\n",
            "\u001b[0;32m/usr/local/lib/python3.10/dist-packages/crewai/tools/tool_usage.py\u001b[0m in \u001b[0;36muse\u001b[0;34m(self, calling, tool_string)\u001b[0m\n\u001b[1;32m     99\u001b[0m             \u001b[0mself\u001b[0m\u001b[0;34m.\u001b[0m\u001b[0m_printer\u001b[0m\u001b[0;34m.\u001b[0m\u001b[0mprint\u001b[0m\u001b[0;34m(\u001b[0m\u001b[0mcontent\u001b[0m\u001b[0;34m=\u001b[0m\u001b[0;34mf\"\\n\\n{error}\\n\"\u001b[0m\u001b[0;34m,\u001b[0m \u001b[0mcolor\u001b[0m\u001b[0;34m=\u001b[0m\u001b[0;34m\"red\"\u001b[0m\u001b[0;34m)\u001b[0m\u001b[0;34m\u001b[0m\u001b[0;34m\u001b[0m\u001b[0m\n\u001b[1;32m    100\u001b[0m             \u001b[0;32mreturn\u001b[0m \u001b[0merror\u001b[0m\u001b[0;34m\u001b[0m\u001b[0;34m\u001b[0m\u001b[0m\n\u001b[0;32m--> 101\u001b[0;31m         \u001b[0;32mreturn\u001b[0m \u001b[0;34mf\"{self._use(tool_string=tool_string, tool=tool, calling=calling)}\"\u001b[0m  \u001b[0;31m# type: ignore # BUG?: \"_use\" of \"ToolUsage\" does not return a value (it only ever returns None)\u001b[0m\u001b[0;34m\u001b[0m\u001b[0;34m\u001b[0m\u001b[0m\n\u001b[0m\u001b[1;32m    102\u001b[0m \u001b[0;34m\u001b[0m\u001b[0m\n\u001b[1;32m    103\u001b[0m     def _use(\n",
            "\u001b[0;32m/usr/local/lib/python3.10/dist-packages/crewai/tools/tool_usage.py\u001b[0m in \u001b[0;36m_use\u001b[0;34m(self, tool_string, tool, calling)\u001b[0m\n\u001b[1;32m    152\u001b[0m                             \u001b[0;32mif\u001b[0m \u001b[0mk\u001b[0m \u001b[0;32min\u001b[0m \u001b[0macceptable_args\u001b[0m\u001b[0;34m\u001b[0m\u001b[0;34m\u001b[0m\u001b[0m\n\u001b[1;32m    153\u001b[0m                         }\n\u001b[0;32m--> 154\u001b[0;31m                         \u001b[0mresult\u001b[0m \u001b[0;34m=\u001b[0m \u001b[0mtool\u001b[0m\u001b[0;34m.\u001b[0m\u001b[0minvoke\u001b[0m\u001b[0;34m(\u001b[0m\u001b[0minput\u001b[0m\u001b[0;34m=\u001b[0m\u001b[0marguments\u001b[0m\u001b[0;34m)\u001b[0m\u001b[0;34m\u001b[0m\u001b[0;34m\u001b[0m\u001b[0m\n\u001b[0m\u001b[1;32m    155\u001b[0m                     \u001b[0;32mexcept\u001b[0m \u001b[0mException\u001b[0m\u001b[0;34m:\u001b[0m\u001b[0;34m\u001b[0m\u001b[0;34m\u001b[0m\u001b[0m\n\u001b[1;32m    156\u001b[0m                         \u001b[0marguments\u001b[0m \u001b[0;34m=\u001b[0m \u001b[0mcalling\u001b[0m\u001b[0;34m.\u001b[0m\u001b[0marguments\u001b[0m\u001b[0;34m\u001b[0m\u001b[0;34m\u001b[0m\u001b[0m\n",
            "\u001b[0;32m/usr/local/lib/python3.10/dist-packages/langchain_core/tools.py\u001b[0m in \u001b[0;36minvoke\u001b[0;34m(self, input, config, **kwargs)\u001b[0m\n\u001b[1;32m    423\u001b[0m     ) -> Any:\n\u001b[1;32m    424\u001b[0m         \u001b[0mtool_input\u001b[0m\u001b[0;34m,\u001b[0m \u001b[0mkwargs\u001b[0m \u001b[0;34m=\u001b[0m \u001b[0m_prep_run_args\u001b[0m\u001b[0;34m(\u001b[0m\u001b[0minput\u001b[0m\u001b[0;34m,\u001b[0m \u001b[0mconfig\u001b[0m\u001b[0;34m,\u001b[0m \u001b[0;34m**\u001b[0m\u001b[0mkwargs\u001b[0m\u001b[0;34m)\u001b[0m\u001b[0;34m\u001b[0m\u001b[0;34m\u001b[0m\u001b[0m\n\u001b[0;32m--> 425\u001b[0;31m         \u001b[0;32mreturn\u001b[0m \u001b[0mself\u001b[0m\u001b[0;34m.\u001b[0m\u001b[0mrun\u001b[0m\u001b[0;34m(\u001b[0m\u001b[0mtool_input\u001b[0m\u001b[0;34m,\u001b[0m \u001b[0;34m**\u001b[0m\u001b[0mkwargs\u001b[0m\u001b[0;34m)\u001b[0m\u001b[0;34m\u001b[0m\u001b[0;34m\u001b[0m\u001b[0m\n\u001b[0m\u001b[1;32m    426\u001b[0m \u001b[0;34m\u001b[0m\u001b[0m\n\u001b[1;32m    427\u001b[0m     async def ainvoke(\n",
            "\u001b[0;32m/usr/local/lib/python3.10/dist-packages/langchain_core/tools.py\u001b[0m in \u001b[0;36mrun\u001b[0;34m(self, tool_input, verbose, start_color, color, callbacks, tags, metadata, run_name, run_id, config, tool_call_id, **kwargs)\u001b[0m\n\u001b[1;32m    611\u001b[0m         \u001b[0;32mif\u001b[0m \u001b[0merror_to_raise\u001b[0m\u001b[0;34m:\u001b[0m\u001b[0;34m\u001b[0m\u001b[0;34m\u001b[0m\u001b[0m\n\u001b[1;32m    612\u001b[0m             \u001b[0mrun_manager\u001b[0m\u001b[0;34m.\u001b[0m\u001b[0mon_tool_error\u001b[0m\u001b[0;34m(\u001b[0m\u001b[0merror_to_raise\u001b[0m\u001b[0;34m)\u001b[0m\u001b[0;34m\u001b[0m\u001b[0;34m\u001b[0m\u001b[0m\n\u001b[0;32m--> 613\u001b[0;31m             \u001b[0;32mraise\u001b[0m \u001b[0merror_to_raise\u001b[0m\u001b[0;34m\u001b[0m\u001b[0;34m\u001b[0m\u001b[0m\n\u001b[0m\u001b[1;32m    614\u001b[0m         \u001b[0moutput\u001b[0m \u001b[0;34m=\u001b[0m \u001b[0m_format_output\u001b[0m\u001b[0;34m(\u001b[0m\u001b[0mcontent\u001b[0m\u001b[0;34m,\u001b[0m \u001b[0martifact\u001b[0m\u001b[0;34m,\u001b[0m \u001b[0mtool_call_id\u001b[0m\u001b[0;34m,\u001b[0m \u001b[0mself\u001b[0m\u001b[0;34m.\u001b[0m\u001b[0mname\u001b[0m\u001b[0;34m,\u001b[0m \u001b[0mstatus\u001b[0m\u001b[0;34m)\u001b[0m\u001b[0;34m\u001b[0m\u001b[0;34m\u001b[0m\u001b[0m\n\u001b[1;32m    615\u001b[0m         \u001b[0mrun_manager\u001b[0m\u001b[0;34m.\u001b[0m\u001b[0mon_tool_end\u001b[0m\u001b[0;34m(\u001b[0m\u001b[0moutput\u001b[0m\u001b[0;34m,\u001b[0m \u001b[0mcolor\u001b[0m\u001b[0;34m=\u001b[0m\u001b[0mcolor\u001b[0m\u001b[0;34m,\u001b[0m \u001b[0mname\u001b[0m\u001b[0;34m=\u001b[0m\u001b[0mself\u001b[0m\u001b[0;34m.\u001b[0m\u001b[0mname\u001b[0m\u001b[0;34m,\u001b[0m \u001b[0;34m**\u001b[0m\u001b[0mkwargs\u001b[0m\u001b[0;34m)\u001b[0m\u001b[0;34m\u001b[0m\u001b[0;34m\u001b[0m\u001b[0m\n",
            "\u001b[0;32m/usr/local/lib/python3.10/dist-packages/langchain_core/tools.py\u001b[0m in \u001b[0;36mrun\u001b[0;34m(self, tool_input, verbose, start_color, color, callbacks, tags, metadata, run_name, run_id, config, tool_call_id, **kwargs)\u001b[0m\n\u001b[1;32m    580\u001b[0m             \u001b[0;32mif\u001b[0m \u001b[0mconfig_param\u001b[0m \u001b[0;34m:=\u001b[0m \u001b[0m_get_runnable_config_param\u001b[0m\u001b[0;34m(\u001b[0m\u001b[0mself\u001b[0m\u001b[0;34m.\u001b[0m\u001b[0m_run\u001b[0m\u001b[0;34m)\u001b[0m\u001b[0;34m:\u001b[0m\u001b[0;34m\u001b[0m\u001b[0;34m\u001b[0m\u001b[0m\n\u001b[1;32m    581\u001b[0m                 \u001b[0mtool_kwargs\u001b[0m\u001b[0;34m[\u001b[0m\u001b[0mconfig_param\u001b[0m\u001b[0;34m]\u001b[0m \u001b[0;34m=\u001b[0m \u001b[0mconfig\u001b[0m\u001b[0;34m\u001b[0m\u001b[0;34m\u001b[0m\u001b[0m\n\u001b[0;32m--> 582\u001b[0;31m             \u001b[0mresponse\u001b[0m \u001b[0;34m=\u001b[0m \u001b[0mcontext\u001b[0m\u001b[0;34m.\u001b[0m\u001b[0mrun\u001b[0m\u001b[0;34m(\u001b[0m\u001b[0mself\u001b[0m\u001b[0;34m.\u001b[0m\u001b[0m_run\u001b[0m\u001b[0;34m,\u001b[0m \u001b[0;34m*\u001b[0m\u001b[0mtool_args\u001b[0m\u001b[0;34m,\u001b[0m \u001b[0;34m**\u001b[0m\u001b[0mtool_kwargs\u001b[0m\u001b[0;34m)\u001b[0m\u001b[0;34m\u001b[0m\u001b[0;34m\u001b[0m\u001b[0m\n\u001b[0m\u001b[1;32m    583\u001b[0m             \u001b[0;32mif\u001b[0m \u001b[0mself\u001b[0m\u001b[0;34m.\u001b[0m\u001b[0mresponse_format\u001b[0m \u001b[0;34m==\u001b[0m \u001b[0;34m\"content_and_artifact\"\u001b[0m\u001b[0;34m:\u001b[0m\u001b[0;34m\u001b[0m\u001b[0;34m\u001b[0m\u001b[0m\n\u001b[1;32m    584\u001b[0m                 \u001b[0;32mif\u001b[0m \u001b[0;32mnot\u001b[0m \u001b[0misinstance\u001b[0m\u001b[0;34m(\u001b[0m\u001b[0mresponse\u001b[0m\u001b[0;34m,\u001b[0m \u001b[0mtuple\u001b[0m\u001b[0;34m)\u001b[0m \u001b[0;32mor\u001b[0m \u001b[0mlen\u001b[0m\u001b[0;34m(\u001b[0m\u001b[0mresponse\u001b[0m\u001b[0;34m)\u001b[0m \u001b[0;34m!=\u001b[0m \u001b[0;36m2\u001b[0m\u001b[0;34m:\u001b[0m\u001b[0;34m\u001b[0m\u001b[0;34m\u001b[0m\u001b[0m\n",
            "\u001b[0;32m/usr/local/lib/python3.10/dist-packages/langchain_core/tools.py\u001b[0m in \u001b[0;36m_run\u001b[0;34m(self, config, run_manager, *args, **kwargs)\u001b[0m\n\u001b[1;32m    925\u001b[0m             \u001b[0;32mif\u001b[0m \u001b[0mconfig_param\u001b[0m \u001b[0;34m:=\u001b[0m \u001b[0m_get_runnable_config_param\u001b[0m\u001b[0;34m(\u001b[0m\u001b[0mself\u001b[0m\u001b[0;34m.\u001b[0m\u001b[0mfunc\u001b[0m\u001b[0;34m)\u001b[0m\u001b[0;34m:\u001b[0m\u001b[0;34m\u001b[0m\u001b[0;34m\u001b[0m\u001b[0m\n\u001b[1;32m    926\u001b[0m                 \u001b[0mkwargs\u001b[0m\u001b[0;34m[\u001b[0m\u001b[0mconfig_param\u001b[0m\u001b[0;34m]\u001b[0m \u001b[0;34m=\u001b[0m \u001b[0mconfig\u001b[0m\u001b[0;34m\u001b[0m\u001b[0;34m\u001b[0m\u001b[0m\n\u001b[0;32m--> 927\u001b[0;31m             \u001b[0;32mreturn\u001b[0m \u001b[0mself\u001b[0m\u001b[0;34m.\u001b[0m\u001b[0mfunc\u001b[0m\u001b[0;34m(\u001b[0m\u001b[0;34m*\u001b[0m\u001b[0margs\u001b[0m\u001b[0;34m,\u001b[0m \u001b[0;34m**\u001b[0m\u001b[0mkwargs\u001b[0m\u001b[0;34m)\u001b[0m\u001b[0;34m\u001b[0m\u001b[0;34m\u001b[0m\u001b[0m\n\u001b[0m\u001b[1;32m    928\u001b[0m         \u001b[0;32mraise\u001b[0m \u001b[0mNotImplementedError\u001b[0m\u001b[0;34m(\u001b[0m\u001b[0;34m\"StructuredTool does not support sync invocation.\"\u001b[0m\u001b[0;34m)\u001b[0m\u001b[0;34m\u001b[0m\u001b[0;34m\u001b[0m\u001b[0m\n\u001b[1;32m    929\u001b[0m \u001b[0;34m\u001b[0m\u001b[0m\n",
            "\u001b[0;32m/content/tools/exam.py\u001b[0m in \u001b[0;36mget_chapter\u001b[0;34m(query, subject)\u001b[0m\n\u001b[1;32m     10\u001b[0m         \u001b[0muri\u001b[0m \u001b[0;34m=\u001b[0m \u001b[0mos\u001b[0m\u001b[0;34m.\u001b[0m\u001b[0mgetenv\u001b[0m\u001b[0;34m(\u001b[0m\u001b[0;34m\"DATABSE_PUBLIC_ENDPOINT\"\u001b[0m\u001b[0;34m)\u001b[0m\u001b[0;34m\u001b[0m\u001b[0;34m\u001b[0m\u001b[0m\n\u001b[1;32m     11\u001b[0m         \u001b[0mtoken\u001b[0m \u001b[0;34m=\u001b[0m \u001b[0mos\u001b[0m\u001b[0;34m.\u001b[0m\u001b[0mgetenv\u001b[0m\u001b[0;34m(\u001b[0m\u001b[0;34m\"DATABASE_API_KEY\"\u001b[0m\u001b[0;34m)\u001b[0m\u001b[0;34m\u001b[0m\u001b[0;34m\u001b[0m\u001b[0m\n\u001b[0;32m---> 12\u001b[0;31m         \u001b[0mvector_store\u001b[0m \u001b[0;34m=\u001b[0m \u001b[0mVectorStore\u001b[0m\u001b[0;34m(\u001b[0m\u001b[0muri\u001b[0m\u001b[0;34m,\u001b[0m \u001b[0mtoken\u001b[0m\u001b[0;34m)\u001b[0m\u001b[0;34m\u001b[0m\u001b[0;34m\u001b[0m\u001b[0m\n\u001b[0m\u001b[1;32m     13\u001b[0m         \u001b[0mclean_subject\u001b[0m \u001b[0;34m=\u001b[0m \u001b[0msubject\u001b[0m\u001b[0;34m.\u001b[0m\u001b[0mreplace\u001b[0m\u001b[0;34m(\u001b[0m\u001b[0;34m\" \"\u001b[0m\u001b[0;34m,\u001b[0m\u001b[0;34m\"_\"\u001b[0m\u001b[0;34m)\u001b[0m\u001b[0;34m.\u001b[0m\u001b[0mlower\u001b[0m\u001b[0;34m(\u001b[0m\u001b[0;34m)\u001b[0m\u001b[0;34m\u001b[0m\u001b[0;34m\u001b[0m\u001b[0m\n\u001b[1;32m     14\u001b[0m         \u001b[0mexpression\u001b[0m \u001b[0;34m=\u001b[0m \u001b[0;34mf\"filename like '%{clean_subject}%'\"\u001b[0m\u001b[0;34m\u001b[0m\u001b[0;34m\u001b[0m\u001b[0m\n",
            "\u001b[0;32m/content/tools/vector_store.py\u001b[0m in \u001b[0;36m__init__\u001b[0;34m(self, uri, token)\u001b[0m\n\u001b[1;32m      8\u001b[0m \u001b[0;32mclass\u001b[0m \u001b[0mVectorStore\u001b[0m\u001b[0;34m(\u001b[0m\u001b[0;34m)\u001b[0m\u001b[0;34m:\u001b[0m\u001b[0;34m\u001b[0m\u001b[0;34m\u001b[0m\u001b[0m\n\u001b[1;32m      9\u001b[0m     \u001b[0;32mdef\u001b[0m \u001b[0m__init__\u001b[0m\u001b[0;34m(\u001b[0m\u001b[0mself\u001b[0m\u001b[0;34m,\u001b[0m  \u001b[0muri\u001b[0m\u001b[0;34m:\u001b[0m \u001b[0mstr\u001b[0m\u001b[0;34m,\u001b[0m \u001b[0mtoken\u001b[0m\u001b[0;34m:\u001b[0m \u001b[0mstr\u001b[0m\u001b[0;34m)\u001b[0m\u001b[0;34m:\u001b[0m\u001b[0;34m\u001b[0m\u001b[0;34m\u001b[0m\u001b[0m\n\u001b[0;32m---> 10\u001b[0;31m         \u001b[0mconnections\u001b[0m\u001b[0;34m.\u001b[0m\u001b[0mconnect\u001b[0m\u001b[0;34m(\u001b[0m\u001b[0muri\u001b[0m\u001b[0;34m=\u001b[0m\u001b[0muri\u001b[0m\u001b[0;34m,\u001b[0m \u001b[0mtoken\u001b[0m\u001b[0;34m=\u001b[0m \u001b[0mtoken\u001b[0m\u001b[0;34m,\u001b[0m \u001b[0malias\u001b[0m\u001b[0;34m=\u001b[0m\u001b[0;34m\"default\"\u001b[0m\u001b[0;34m)\u001b[0m\u001b[0;34m\u001b[0m\u001b[0;34m\u001b[0m\u001b[0m\n\u001b[0m\u001b[1;32m     11\u001b[0m         \u001b[0mmodel_name\u001b[0m \u001b[0;34m=\u001b[0m \u001b[0mMODEL_NAME\u001b[0m\u001b[0;34m\u001b[0m\u001b[0;34m\u001b[0m\u001b[0m\n\u001b[1;32m     12\u001b[0m         \u001b[0mself\u001b[0m\u001b[0;34m.\u001b[0m\u001b[0mmodel\u001b[0m \u001b[0;34m=\u001b[0m \u001b[0mSentenceTransformer\u001b[0m\u001b[0;34m(\u001b[0m\u001b[0mmodel_name\u001b[0m\u001b[0;34m)\u001b[0m\u001b[0;34m\u001b[0m\u001b[0;34m\u001b[0m\u001b[0m\n",
            "\u001b[0;32m/usr/local/lib/python3.10/dist-packages/pymilvus/orm/connections.py\u001b[0m in \u001b[0;36mconnect\u001b[0;34m(self, alias, user, password, db_name, token, **kwargs)\u001b[0m\n\u001b[1;32m    447\u001b[0m                     \u001b[0mkwargs\u001b[0m\u001b[0;34m[\u001b[0m\u001b[0;34m\"secure\"\u001b[0m\u001b[0;34m]\u001b[0m \u001b[0;34m=\u001b[0m \u001b[0;32mTrue\u001b[0m\u001b[0;34m\u001b[0m\u001b[0;34m\u001b[0m\u001b[0m\n\u001b[1;32m    448\u001b[0m \u001b[0;34m\u001b[0m\u001b[0m\n\u001b[0;32m--> 449\u001b[0;31m             \u001b[0mconnect_milvus\u001b[0m\u001b[0;34m(\u001b[0m\u001b[0;34m**\u001b[0m\u001b[0mkwargs\u001b[0m\u001b[0;34m,\u001b[0m \u001b[0muser\u001b[0m\u001b[0;34m=\u001b[0m\u001b[0muser\u001b[0m\u001b[0;34m,\u001b[0m \u001b[0mpassword\u001b[0m\u001b[0;34m=\u001b[0m\u001b[0mpassword\u001b[0m\u001b[0;34m,\u001b[0m \u001b[0mtoken\u001b[0m\u001b[0;34m=\u001b[0m\u001b[0mtoken\u001b[0m\u001b[0;34m,\u001b[0m \u001b[0mdb_name\u001b[0m\u001b[0;34m=\u001b[0m\u001b[0mdb_name\u001b[0m\u001b[0;34m)\u001b[0m\u001b[0;34m\u001b[0m\u001b[0;34m\u001b[0m\u001b[0m\n\u001b[0m\u001b[1;32m    450\u001b[0m             \u001b[0;32mreturn\u001b[0m\u001b[0;34m\u001b[0m\u001b[0;34m\u001b[0m\u001b[0m\n\u001b[1;32m    451\u001b[0m \u001b[0;34m\u001b[0m\u001b[0m\n",
            "\u001b[0;32m/usr/local/lib/python3.10/dist-packages/pymilvus/orm/connections.py\u001b[0m in \u001b[0;36mconnect_milvus\u001b[0;34m(**kwargs)\u001b[0m\n\u001b[1;32m    398\u001b[0m             \u001b[0mtimeout\u001b[0m \u001b[0;34m=\u001b[0m \u001b[0mt\u001b[0m \u001b[0;32mif\u001b[0m \u001b[0misinstance\u001b[0m\u001b[0;34m(\u001b[0m\u001b[0mt\u001b[0m\u001b[0;34m,\u001b[0m \u001b[0;34m(\u001b[0m\u001b[0mint\u001b[0m\u001b[0;34m,\u001b[0m \u001b[0mfloat\u001b[0m\u001b[0;34m)\u001b[0m\u001b[0;34m)\u001b[0m \u001b[0;32melse\u001b[0m \u001b[0mConfig\u001b[0m\u001b[0;34m.\u001b[0m\u001b[0mMILVUS_CONN_TIMEOUT\u001b[0m\u001b[0;34m\u001b[0m\u001b[0;34m\u001b[0m\u001b[0m\n\u001b[1;32m    399\u001b[0m \u001b[0;34m\u001b[0m\u001b[0m\n\u001b[0;32m--> 400\u001b[0;31m             \u001b[0mgh\u001b[0m\u001b[0;34m.\u001b[0m\u001b[0m_wait_for_channel_ready\u001b[0m\u001b[0;34m(\u001b[0m\u001b[0mtimeout\u001b[0m\u001b[0;34m=\u001b[0m\u001b[0mtimeout\u001b[0m\u001b[0;34m)\u001b[0m\u001b[0;34m\u001b[0m\u001b[0;34m\u001b[0m\u001b[0m\n\u001b[0m\u001b[1;32m    401\u001b[0m             \u001b[0;32mif\u001b[0m \u001b[0mkwargs\u001b[0m\u001b[0;34m.\u001b[0m\u001b[0mget\u001b[0m\u001b[0;34m(\u001b[0m\u001b[0;34m\"keep_alive\"\u001b[0m\u001b[0;34m,\u001b[0m \u001b[0;32mFalse\u001b[0m\u001b[0;34m)\u001b[0m\u001b[0;34m:\u001b[0m\u001b[0;34m\u001b[0m\u001b[0;34m\u001b[0m\u001b[0m\n\u001b[1;32m    402\u001b[0m                 gh.register_state_change_callback(\n",
            "\u001b[0;32m/usr/local/lib/python3.10/dist-packages/pymilvus/client/grpc_handler.py\u001b[0m in \u001b[0;36m_wait_for_channel_ready\u001b[0;34m(self, timeout)\u001b[0m\n\u001b[1;32m    146\u001b[0m         \u001b[0;32mtry\u001b[0m\u001b[0;34m:\u001b[0m\u001b[0;34m\u001b[0m\u001b[0;34m\u001b[0m\u001b[0m\n\u001b[1;32m    147\u001b[0m             \u001b[0mgrpc\u001b[0m\u001b[0;34m.\u001b[0m\u001b[0mchannel_ready_future\u001b[0m\u001b[0;34m(\u001b[0m\u001b[0mself\u001b[0m\u001b[0;34m.\u001b[0m\u001b[0m_channel\u001b[0m\u001b[0;34m)\u001b[0m\u001b[0;34m.\u001b[0m\u001b[0mresult\u001b[0m\u001b[0;34m(\u001b[0m\u001b[0mtimeout\u001b[0m\u001b[0;34m=\u001b[0m\u001b[0mtimeout\u001b[0m\u001b[0;34m)\u001b[0m\u001b[0;34m\u001b[0m\u001b[0;34m\u001b[0m\u001b[0m\n\u001b[0;32m--> 148\u001b[0;31m             \u001b[0mself\u001b[0m\u001b[0;34m.\u001b[0m\u001b[0m_setup_identifier_interceptor\u001b[0m\u001b[0;34m(\u001b[0m\u001b[0mself\u001b[0m\u001b[0;34m.\u001b[0m\u001b[0m_user\u001b[0m\u001b[0;34m,\u001b[0m \u001b[0mtimeout\u001b[0m\u001b[0;34m=\u001b[0m\u001b[0mtimeout\u001b[0m\u001b[0;34m)\u001b[0m\u001b[0;34m\u001b[0m\u001b[0;34m\u001b[0m\u001b[0m\n\u001b[0m\u001b[1;32m    149\u001b[0m         \u001b[0;32mexcept\u001b[0m \u001b[0mgrpc\u001b[0m\u001b[0;34m.\u001b[0m\u001b[0mFutureTimeoutError\u001b[0m \u001b[0;32mas\u001b[0m \u001b[0me\u001b[0m\u001b[0;34m:\u001b[0m\u001b[0;34m\u001b[0m\u001b[0;34m\u001b[0m\u001b[0m\n\u001b[1;32m    150\u001b[0m             raise MilvusException(\n",
            "\u001b[0;32m/usr/local/lib/python3.10/dist-packages/pymilvus/client/grpc_handler.py\u001b[0m in \u001b[0;36m_setup_identifier_interceptor\u001b[0;34m(self, user, timeout)\u001b[0m\n\u001b[1;32m    264\u001b[0m     \u001b[0;32mdef\u001b[0m \u001b[0m_setup_identifier_interceptor\u001b[0m\u001b[0;34m(\u001b[0m\u001b[0mself\u001b[0m\u001b[0;34m,\u001b[0m \u001b[0muser\u001b[0m\u001b[0;34m:\u001b[0m \u001b[0mstr\u001b[0m\u001b[0;34m,\u001b[0m \u001b[0mtimeout\u001b[0m\u001b[0;34m:\u001b[0m \u001b[0mint\u001b[0m \u001b[0;34m=\u001b[0m \u001b[0;36m10\u001b[0m\u001b[0;34m)\u001b[0m\u001b[0;34m:\u001b[0m\u001b[0;34m\u001b[0m\u001b[0;34m\u001b[0m\u001b[0m\n\u001b[1;32m    265\u001b[0m         \u001b[0mhost\u001b[0m \u001b[0;34m=\u001b[0m \u001b[0msocket\u001b[0m\u001b[0;34m.\u001b[0m\u001b[0mgethostname\u001b[0m\u001b[0;34m(\u001b[0m\u001b[0;34m)\u001b[0m\u001b[0;34m\u001b[0m\u001b[0;34m\u001b[0m\u001b[0m\n\u001b[0;32m--> 266\u001b[0;31m         \u001b[0mself\u001b[0m\u001b[0;34m.\u001b[0m\u001b[0m_identifier\u001b[0m \u001b[0;34m=\u001b[0m \u001b[0mself\u001b[0m\u001b[0;34m.\u001b[0m\u001b[0m__internal_register\u001b[0m\u001b[0;34m(\u001b[0m\u001b[0muser\u001b[0m\u001b[0;34m,\u001b[0m \u001b[0mhost\u001b[0m\u001b[0;34m,\u001b[0m \u001b[0mtimeout\u001b[0m\u001b[0;34m=\u001b[0m\u001b[0mtimeout\u001b[0m\u001b[0;34m)\u001b[0m\u001b[0;34m\u001b[0m\u001b[0;34m\u001b[0m\u001b[0m\n\u001b[0m\u001b[1;32m    267\u001b[0m         self._identifier_interceptor = interceptor.header_adder_interceptor(\n\u001b[1;32m    268\u001b[0m             \u001b[0;34m[\u001b[0m\u001b[0;34m\"identifier\"\u001b[0m\u001b[0;34m]\u001b[0m\u001b[0;34m,\u001b[0m \u001b[0;34m[\u001b[0m\u001b[0mstr\u001b[0m\u001b[0;34m(\u001b[0m\u001b[0mself\u001b[0m\u001b[0;34m.\u001b[0m\u001b[0m_identifier\u001b[0m\u001b[0;34m)\u001b[0m\u001b[0;34m]\u001b[0m\u001b[0;34m\u001b[0m\u001b[0;34m\u001b[0m\u001b[0m\n",
            "\u001b[0;32m/usr/local/lib/python3.10/dist-packages/pymilvus/decorators.py\u001b[0m in \u001b[0;36mhandler\u001b[0;34m(*args, **kwargs)\u001b[0m\n\u001b[1;32m    142\u001b[0m             \u001b[0;32mtry\u001b[0m\u001b[0;34m:\u001b[0m\u001b[0;34m\u001b[0m\u001b[0;34m\u001b[0m\u001b[0m\n\u001b[1;32m    143\u001b[0m                 \u001b[0mrecord_dict\u001b[0m\u001b[0;34m[\u001b[0m\u001b[0;34m\"RPC start\"\u001b[0m\u001b[0;34m]\u001b[0m \u001b[0;34m=\u001b[0m \u001b[0mstr\u001b[0m\u001b[0;34m(\u001b[0m\u001b[0mdatetime\u001b[0m\u001b[0;34m.\u001b[0m\u001b[0mdatetime\u001b[0m\u001b[0;34m.\u001b[0m\u001b[0mnow\u001b[0m\u001b[0;34m(\u001b[0m\u001b[0;34m)\u001b[0m\u001b[0;34m)\u001b[0m\u001b[0;34m\u001b[0m\u001b[0;34m\u001b[0m\u001b[0m\n\u001b[0;32m--> 144\u001b[0;31m                 \u001b[0;32mreturn\u001b[0m \u001b[0mfunc\u001b[0m\u001b[0;34m(\u001b[0m\u001b[0;34m*\u001b[0m\u001b[0margs\u001b[0m\u001b[0;34m,\u001b[0m \u001b[0;34m**\u001b[0m\u001b[0mkwargs\u001b[0m\u001b[0;34m)\u001b[0m\u001b[0;34m\u001b[0m\u001b[0;34m\u001b[0m\u001b[0m\n\u001b[0m\u001b[1;32m    145\u001b[0m             \u001b[0;32mexcept\u001b[0m \u001b[0mMilvusException\u001b[0m \u001b[0;32mas\u001b[0m \u001b[0me\u001b[0m\u001b[0;34m:\u001b[0m\u001b[0;34m\u001b[0m\u001b[0;34m\u001b[0m\u001b[0m\n\u001b[1;32m    146\u001b[0m                 \u001b[0mrecord_dict\u001b[0m\u001b[0;34m[\u001b[0m\u001b[0;34m\"RPC error\"\u001b[0m\u001b[0;34m]\u001b[0m \u001b[0;34m=\u001b[0m \u001b[0mstr\u001b[0m\u001b[0;34m(\u001b[0m\u001b[0mdatetime\u001b[0m\u001b[0;34m.\u001b[0m\u001b[0mdatetime\u001b[0m\u001b[0;34m.\u001b[0m\u001b[0mnow\u001b[0m\u001b[0;34m(\u001b[0m\u001b[0;34m)\u001b[0m\u001b[0;34m)\u001b[0m\u001b[0;34m\u001b[0m\u001b[0;34m\u001b[0m\u001b[0m\n",
            "\u001b[0;32m/usr/local/lib/python3.10/dist-packages/pymilvus/decorators.py\u001b[0m in \u001b[0;36mhandler\u001b[0;34m(self, *args, **kwargs)\u001b[0m\n\u001b[1;32m    181\u001b[0m             \u001b[0;32mif\u001b[0m \u001b[0mreq_id\u001b[0m\u001b[0;34m:\u001b[0m\u001b[0;34m\u001b[0m\u001b[0;34m\u001b[0m\u001b[0m\n\u001b[1;32m    182\u001b[0m                 \u001b[0mself\u001b[0m\u001b[0;34m.\u001b[0m\u001b[0mset_onetime_request_id\u001b[0m\u001b[0;34m(\u001b[0m\u001b[0mreq_id\u001b[0m\u001b[0;34m)\u001b[0m\u001b[0;34m\u001b[0m\u001b[0;34m\u001b[0m\u001b[0m\n\u001b[0;32m--> 183\u001b[0;31m             \u001b[0;32mreturn\u001b[0m \u001b[0mfunc\u001b[0m\u001b[0;34m(\u001b[0m\u001b[0mself\u001b[0m\u001b[0;34m,\u001b[0m \u001b[0;34m*\u001b[0m\u001b[0margs\u001b[0m\u001b[0;34m,\u001b[0m \u001b[0;34m**\u001b[0m\u001b[0mkwargs\u001b[0m\u001b[0;34m)\u001b[0m\u001b[0;34m\u001b[0m\u001b[0;34m\u001b[0m\u001b[0m\n\u001b[0m\u001b[1;32m    184\u001b[0m \u001b[0;34m\u001b[0m\u001b[0m\n\u001b[1;32m    185\u001b[0m         \u001b[0;32mreturn\u001b[0m \u001b[0mhandler\u001b[0m\u001b[0;34m\u001b[0m\u001b[0;34m\u001b[0m\u001b[0m\n",
            "\u001b[0;32m/usr/local/lib/python3.10/dist-packages/pymilvus/decorators.py\u001b[0m in \u001b[0;36mhandler\u001b[0;34m(*args, **kwargs)\u001b[0m\n\u001b[1;32m    101\u001b[0m                         \u001b[0mLOGGER\u001b[0m\u001b[0;34m.\u001b[0m\u001b[0minfo\u001b[0m\u001b[0;34m(\u001b[0m\u001b[0mretry_msg\u001b[0m\u001b[0;34m)\u001b[0m\u001b[0;34m\u001b[0m\u001b[0;34m\u001b[0m\u001b[0m\n\u001b[1;32m    102\u001b[0m \u001b[0;34m\u001b[0m\u001b[0m\n\u001b[0;32m--> 103\u001b[0;31m                     \u001b[0mtime\u001b[0m\u001b[0;34m.\u001b[0m\u001b[0msleep\u001b[0m\u001b[0;34m(\u001b[0m\u001b[0mback_off\u001b[0m\u001b[0;34m)\u001b[0m\u001b[0;34m\u001b[0m\u001b[0;34m\u001b[0m\u001b[0m\n\u001b[0m\u001b[1;32m    104\u001b[0m                     \u001b[0mback_off\u001b[0m \u001b[0;34m=\u001b[0m \u001b[0mmin\u001b[0m\u001b[0;34m(\u001b[0m\u001b[0mback_off\u001b[0m \u001b[0;34m*\u001b[0m \u001b[0mback_off_multiplier\u001b[0m\u001b[0;34m,\u001b[0m \u001b[0mmax_back_off\u001b[0m\u001b[0;34m)\u001b[0m\u001b[0;34m\u001b[0m\u001b[0;34m\u001b[0m\u001b[0m\n\u001b[1;32m    105\u001b[0m                 \u001b[0;32mexcept\u001b[0m \u001b[0mMilvusException\u001b[0m \u001b[0;32mas\u001b[0m \u001b[0me\u001b[0m\u001b[0;34m:\u001b[0m\u001b[0;34m\u001b[0m\u001b[0;34m\u001b[0m\u001b[0m\n",
            "\u001b[0;31mKeyboardInterrupt\u001b[0m: "
          ]
        }
      ],
      "source": [
        "result = crew.kickoff(inputs={'topic': 'Môn vật lý lớp 10',\n",
        "                              'sub_topics': 'động học, độ dịch chuyển',\n",
        "                              })\n",
        "print(result)"
      ]
    },
    {
      "cell_type": "code",
      "execution_count": null,
      "metadata": {
        "colab": {
          "base_uri": "https://localhost:8080/",
          "height": 139
        },
        "id": "NpICK-qxj3Ig",
        "outputId": "c0b794fa-24b1-4c08-fb65-9117ca8c3d18"
      },
      "outputs": [
        {
          "data": {
            "application/vnd.google.colaboratory.intrinsic+json": {
              "type": "string"
            },
            "text/plain": [
              "'### Kế Hoạch Bài Học Môn Vật Lý Lớp 9: Động Học\\n\\n#### 1. Mục Tiêu Học Tập\\n- Học sinh hiểu được khái niệm động học và các đại lượng chuyển động như vị trí, độ dịch chuyển, và vận tốc.\\n- Học sinh có khả năng tính toán vận tốc trung bình và phân biệt giữa vị trí và độ dịch chuyển.\\n- Học sinh áp dụng kiến thức vào các tình huống thực tế trong cuộc sống hàng ngày.\\n\\n#### 2. Dàn Ý Chi Tiết\\n\\n**Giới thiệu (5 phút):**\\n- Giới thiệu khái niệm động học và tầm quan trọng của nó trong vật lý.\\n- Đặt câu hỏi khởi động: \"Khi nào các bạn nghĩ về chuyển động trong cuộc sống hàng ngày?\"\\n\\n**Các Điểm Chính (20 phút):**\\n- **Khái niệm Vị Trí và Độ Dịch Chuyển:**\\n  - Định nghĩa vị trí: Điểm trong không gian mà một đối tượng chiếm giữ.\\n  - Định nghĩa độ dịch chuyển: Khoảng cách giữa vị trí ban đầu và vị trí cuối cùng.\\n- **Công Thức Tính Vận Tốc:**\\n  - Vận tốc = Độ dịch chuyển / Thời gian.\\n  - Ví dụ minh họa: Tính vận tốc của một chiếc xe từ nhà đến trường.\\n\\n**Hoạt Động Học Tập (15 phút):**\\n- **Chia Nhóm Thảo Luận:**\\n  - Học sinh chia thành các nhóm 5 người, thảo luận về các ví dụ thực tế liên quan đến vận tốc (chuyển động của xe, người đi bộ, v.v.).\\n- **Thí Nghiệm Đo Độ Dịch Chuyển:**\\n  - Sử dụng một vật thể (như bóng hoặc hộp) để đo độ dịch chuyển trong lớp học.\\n  - Học sinh sẽ đo khoảng cách và thời gian để tính vận tốc.\\n\\n**Kết Luận (5 phút):**\\n- Tóm tắt các khái niệm đã học: vị trí, độ dịch chuyển, vận tốc.\\n- Đặt câu hỏi cho học sinh: \"Vận tốc trung bình có ý nghĩa như thế nào trong thực tế?\"\\n\\n#### 3. Các Hoạt Động Học Tập Tương Tác và Hấp Dẫn\\n- **Thí Nghiệm Thực Tế:**\\n  - Học sinh sẽ tham gia vào việc đo đạc và tính toán vận tốc của một vật thể trong lớp học, tạo cơ hội cho việc học qua thực hành.\\n- **Thảo Luận Nhóm:**\\n  - Khuyến khích học sinh chia sẻ ý kiến và ví dụ cá nhân về chuyển động, giúp củng cố kiến thức qua việc giao tiếp.\\n\\n#### 4. Câu Hỏi Thảo Luận\\n- Vận tốc trung bình là gì và có ý nghĩa như thế nào trong thực tế?\\n- Làm thế nào để chúng ta có thể xác định vị trí và độ dịch chuyển trong các tình huống khác nhau?\\n\\n#### 5. Bài Tập Kiểm Tra Sự Hiểu Biết\\n- Tính toán vận tốc trung bình của một chiếc xe chạy từ nhà đến trường trong 15 phút với khoảng cách 3 km.\\n- Giải thích sự khác biệt giữa vị trí và độ dịch chuyển trong một ví dụ cụ thể.\\n\\n#### 6. Nguồn Tài Liệu Tham Khảo\\n- Sách giáo khoa Vật lý lớp 9, chương về động học.\\n- Tài liệu trực tuyến về động học và vận tốc (ví dụ: các video mô phỏng trên YouTube).\\n- Các bài viết khoa học liên quan đến ứng dụng của động học trong đời sống.\\n\\nKế hoạch bài học này không chỉ giúp học sinh nắm vững kiến thức lý thuyết mà còn tạo cơ hội cho các em thực hành và áp dụng kiến thức vào thực tế, từ đó phát triển tư duy phản biện và khả năng làm việc nhóm.'"
            ]
          },
          "execution_count": 12,
          "metadata": {},
          "output_type": "execute_result"
        }
      ],
      "source": [
        "result.raw"
      ]
    },
    {
      "cell_type": "code",
      "execution_count": null,
      "metadata": {
        "id": "N7OqpHcYmLMy"
      },
      "outputs": [],
      "source": [
        "with open(\"./file.md\", \"w\") as file:\n",
        "  file.write(result.raw)"
      ]
    }
  ],
  "metadata": {
    "colab": {
      "provenance": []
    },
    "kernelspec": {
      "display_name": "Python 3",
      "language": "python",
      "name": "python3"
    },
    "language_info": {
      "codemirror_mode": {
        "name": "ipython",
        "version": 3
      },
      "file_extension": ".py",
      "mimetype": "text/x-python",
      "name": "python",
      "nbconvert_exporter": "python",
      "pygments_lexer": "ipython3",
      "version": "3.8.5"
    }
  },
  "nbformat": 4,
  "nbformat_minor": 0
}